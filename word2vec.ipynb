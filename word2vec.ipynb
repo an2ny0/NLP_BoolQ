{
 "cells": [
  {
   "cell_type": "markdown",
   "metadata": {
    "id": "K1oeV4Z7Yl8H"
   },
   "source": [
    "##  Word2Vec\n",
    "\n",
    "\n"
   ]
  },
  {
   "cell_type": "code",
   "execution_count": 1,
   "metadata": {
    "id": "t5A7x-EUYl8T"
   },
   "outputs": [],
   "source": [
    "import pandas as pd\n",
    "import matplotlib.pyplot as plt\n",
    "import seaborn as sns\n",
    "import random\n",
    "import numpy as np\n",
    "from sklearn.metrics import *\n",
    "from sklearn.feature_extraction.text import *\n",
    "from sklearn.model_selection import train_test_split\n",
    "from collections import Counter, defaultdict\n",
    "import warnings\n",
    "warnings.filterwarnings('ignore')\n",
    "random.seed(1228)\n",
    "\n",
    "%matplotlib inline"
   ]
  },
  {
   "cell_type": "markdown",
   "metadata": {
    "collapsed": true,
    "id": "NfZN8383Yl8U"
   },
   "source": [
    "Sentiment analysis for tweets. "
   ]
  },
  {
   "cell_type": "markdown",
   "metadata": {
    "id": "Pn3ZxKuQYl8U"
   },
   "source": [
    "Load and preprocess the text."
   ]
  },
  {
   "cell_type": "code",
   "execution_count": 2,
   "metadata": {
    "id": "WRuj7aA8Yl8V"
   },
   "outputs": [],
   "source": [
    "from pymystem3 import Mystem\n",
    "import re\n",
    "\n",
    "\n",
    "m = Mystem()\n",
    "\n",
    "\n",
    "regex = re.compile(\"[А-Яа-я:=!\\)\\()A-z\\_\\%/|]+\")\n",
    "\n",
    "def words_only(text, regex=regex):\n",
    "    try:\n",
    "        return \" \".join(regex.findall(text))\n",
    "    except:\n",
    "        return \"\"\n",
    "\n",
    "\n",
    "\n",
    "def lemmatize(text, mystem=m):\n",
    "    try:\n",
    "        return \"\".join(m.lemmatize(text)).strip()  \n",
    "    except:\n",
    "        return \" \"\n"
   ]
  },
  {
   "cell_type": "code",
   "execution_count": 3,
   "metadata": {
    "colab": {
     "base_uri": "https://localhost:8080/"
    },
    "id": "8UcYM8dsYl8W",
    "outputId": "94acd264-0988-4f9d-d28c-358096f7dbd6"
   },
   "outputs": [
    {
     "name": "stdout",
     "output_type": "stream",
     "text": [
      "CPU times: user 994 ms, sys: 82.9 ms, total: 1.08 s\n",
      "Wall time: 1.08 s\n",
      "CPU times: user 5min 50s, sys: 1min 25s, total: 7min 16s\n",
      "Wall time: 7min 19s\n"
     ]
    }
   ],
   "source": [
    "df_neg = pd.read_csv(\"negative.csv\", sep=';', header = None, usecols = [3])\n",
    "df_pos = pd.read_csv(\"positive.csv\", sep=';', header = None, usecols = [3])\n",
    "df_neg['sent'] = 'neg'\n",
    "df_pos['sent'] = 'pos'\n",
    "df_pos['text'] = df_pos[3]\n",
    "df_neg['text'] = df_neg[3]\n",
    "df = pd.concat([df_neg, df_pos])\n",
    "df = df[['text', 'sent']]\n",
    "%time df.text = df.text.apply(words_only)\n",
    "%time df.text = df.text.apply(lemmatize)"
   ]
  },
  {
   "cell_type": "code",
   "execution_count": 4,
   "metadata": {
    "colab": {
     "base_uri": "https://localhost:8080/",
     "height": 206
    },
    "id": "paJZYngOYl8W",
    "outputId": "86b9ffd4-4e4b-428f-8dfb-309701b27b32"
   },
   "outputs": [
    {
     "data": {
      "text/html": [
       "<div>\n",
       "<style scoped>\n",
       "    .dataframe tbody tr th:only-of-type {\n",
       "        vertical-align: middle;\n",
       "    }\n",
       "\n",
       "    .dataframe tbody tr th {\n",
       "        vertical-align: top;\n",
       "    }\n",
       "\n",
       "    .dataframe thead th {\n",
       "        text-align: right;\n",
       "    }\n",
       "</style>\n",
       "<table border=\"1\" class=\"dataframe\">\n",
       "  <thead>\n",
       "    <tr style=\"text-align: right;\">\n",
       "      <th></th>\n",
       "      <th>3</th>\n",
       "    </tr>\n",
       "  </thead>\n",
       "  <tbody>\n",
       "    <tr>\n",
       "      <th>114906</th>\n",
       "      <td>Спала в родительском доме, на своей кровати......</td>\n",
       "    </tr>\n",
       "    <tr>\n",
       "      <th>114907</th>\n",
       "      <td>RT @jebesilofyt: Эх... Мы немного решили сокра...</td>\n",
       "    </tr>\n",
       "    <tr>\n",
       "      <th>114908</th>\n",
       "      <td>Что происходит со мной, когда в эфире #proacti...</td>\n",
       "    </tr>\n",
       "    <tr>\n",
       "      <th>114909</th>\n",
       "      <td>\"Любимая,я подарю тебе эту звезду...\" Имя како...</td>\n",
       "    </tr>\n",
       "    <tr>\n",
       "      <th>114910</th>\n",
       "      <td>@Ma_che_rie посмотри #непытайтесьпокинутьомск ...</td>\n",
       "    </tr>\n",
       "  </tbody>\n",
       "</table>\n",
       "</div>"
      ],
      "text/plain": [
       "                                                        3\n",
       "114906  Спала в родительском доме, на своей кровати......\n",
       "114907  RT @jebesilofyt: Эх... Мы немного решили сокра...\n",
       "114908  Что происходит со мной, когда в эфире #proacti...\n",
       "114909  \"Любимая,я подарю тебе эту звезду...\" Имя како...\n",
       "114910  @Ma_che_rie посмотри #непытайтесьпокинутьомск ..."
      ]
     },
     "execution_count": 4,
     "metadata": {
      "tags": []
     },
     "output_type": "execute_result"
    }
   ],
   "source": [
    "df_pos = pd.read_csv(\"positive.csv\", sep=';', header = None, usecols = [3])\n",
    "df_pos.tail()"
   ]
  },
  {
   "cell_type": "code",
   "execution_count": 3,
   "metadata": {
    "id": "tMJiNWjsYl8X"
   },
   "outputs": [],
   "source": [
    "# Data load for Windows users\n",
    "df = pd.read_csv('processed_text.csv', index_col = 0)"
   ]
  },
  {
   "cell_type": "code",
   "execution_count": 4,
   "metadata": {
    "colab": {
     "base_uri": "https://localhost:8080/"
    },
    "id": "I5aezpSyYl8Y",
    "outputId": "4e4911a7-6c4f-4f43-9bb5-880a213e4da5"
   },
   "outputs": [
    {
     "name": "stdout",
     "output_type": "stream",
     "text": [
      "(226834, 2)\n"
     ]
    }
   ],
   "source": [
    "print(df.shape)\n",
    "#df.head()"
   ]
  },
  {
   "cell_type": "code",
   "execution_count": 5,
   "metadata": {
    "colab": {
     "base_uri": "https://localhost:8080/",
     "height": 206
    },
    "id": "TPQbqM4lYl8Y",
    "outputId": "b104aebd-ffce-43c4-ac4c-9ec266dc7d90"
   },
   "outputs": [
    {
     "data": {
      "text/html": [
       "<div>\n",
       "<style scoped>\n",
       "    .dataframe tbody tr th:only-of-type {\n",
       "        vertical-align: middle;\n",
       "    }\n",
       "\n",
       "    .dataframe tbody tr th {\n",
       "        vertical-align: top;\n",
       "    }\n",
       "\n",
       "    .dataframe thead th {\n",
       "        text-align: right;\n",
       "    }\n",
       "</style>\n",
       "<table border=\"1\" class=\"dataframe\">\n",
       "  <thead>\n",
       "    <tr style=\"text-align: right;\">\n",
       "      <th></th>\n",
       "      <th>text</th>\n",
       "      <th>sent</th>\n",
       "    </tr>\n",
       "  </thead>\n",
       "  <tbody>\n",
       "    <tr>\n",
       "      <th>114906</th>\n",
       "      <td>спать в родительский дом на свой кровать просы...</td>\n",
       "      <td>pos</td>\n",
       "    </tr>\n",
       "    <tr>\n",
       "      <th>114907</th>\n",
       "      <td>RT jebesilofyt: эх мы немного решать сокращать...</td>\n",
       "      <td>pos</td>\n",
       "    </tr>\n",
       "    <tr>\n",
       "      <th>114908</th>\n",
       "      <td>что происходить со я когда в эфир proactivefm ...</td>\n",
       "      <td>pos</td>\n",
       "    </tr>\n",
       "    <tr>\n",
       "      <th>114909</th>\n",
       "      <td>любимый я подарить ты этот звезда имя какой зв...</td>\n",
       "      <td>pos</td>\n",
       "    </tr>\n",
       "    <tr>\n",
       "      <th>114910</th>\n",
       "      <td>Ma_che_rie посмотреть непытайтесьпокинутьомск ...</td>\n",
       "      <td>pos</td>\n",
       "    </tr>\n",
       "  </tbody>\n",
       "</table>\n",
       "</div>"
      ],
      "text/plain": [
       "                                                     text sent\n",
       "114906  спать в родительский дом на свой кровать просы...  pos\n",
       "114907  RT jebesilofyt: эх мы немного решать сокращать...  pos\n",
       "114908  что происходить со я когда в эфир proactivefm ...  pos\n",
       "114909  любимый я подарить ты этот звезда имя какой зв...  pos\n",
       "114910  Ma_che_rie посмотреть непытайтесьпокинутьомск ...  pos"
      ]
     },
     "execution_count": 5,
     "metadata": {
      "tags": []
     },
     "output_type": "execute_result"
    }
   ],
   "source": [
    "df.tail()"
   ]
  },
  {
   "cell_type": "code",
   "execution_count": 6,
   "metadata": {
    "id": "0hTlZ6bPYl8Z"
   },
   "outputs": [],
   "source": [
    "texts = [df.text.iloc[i].split() for i in range(len(df))]"
   ]
  },
  {
   "cell_type": "markdown",
   "metadata": {
    "id": "TRo5W-5kYl8Z"
   },
   "source": [
    "## Model training with gensim\n",
    "\n"
   ]
  },
  {
   "cell_type": "code",
   "execution_count": 7,
   "metadata": {
    "colab": {
     "base_uri": "https://localhost:8080/"
    },
    "id": "ZLuyedQSYl8Z",
    "outputId": "a3692fba-4ee4-4df1-97a4-dd88e8ebac6e"
   },
   "outputs": [
    {
     "name": "stdout",
     "output_type": "stream",
     "text": [
      "CPU times: user 1min 11s, sys: 883 ms, total: 1min 12s\n",
      "Wall time: 43.6 s\n"
     ]
    }
   ],
   "source": [
    "%%time\n",
    "from gensim.models import Word2Vec\n",
    "model = Word2Vec(texts, size=300, window=5, min_count=5, workers=4)\n",
    "model.save(\"word2v.model\")\n",
    "\n",
    "#model = Word2Vec.load(\"word2v.model\") "
   ]
  },
  {
   "cell_type": "code",
   "execution_count": 8,
   "metadata": {
    "colab": {
     "base_uri": "https://localhost:8080/"
    },
    "id": "VViGmpbCYl8a",
    "outputId": "88357b42-c8ac-4704-9189-e84572f78f24"
   },
   "outputs": [
    {
     "data": {
      "text/plain": [
       "[('шк', 0.8869966268539429),\n",
       " ('колледж', 0.7967233657836914),\n",
       " ('больница', 0.7892420291900635),\n",
       " ('универ', 0.7847456336021423),\n",
       " ('суббота', 0.7497577667236328),\n",
       " ('школа(', 0.7428396940231323),\n",
       " ('школа)', 0.7418404817581177),\n",
       " ('среда', 0.7289477586746216),\n",
       " ('пятница', 0.7225089073181152),\n",
       " ('класс', 0.7189439535140991)]"
      ]
     },
     "execution_count": 8,
     "metadata": {
      "tags": []
     },
     "output_type": "execute_result"
    }
   ],
   "source": [
    "model.most_similar(\"школа\")"
   ]
  },
  {
   "cell_type": "code",
   "execution_count": 9,
   "metadata": {
    "colab": {
     "base_uri": "https://localhost:8080/"
    },
    "id": "4CYBNSSHYl8a",
    "outputId": "1b7f8abb-c521-4aee-dd47-27f626a027a3"
   },
   "outputs": [
    {
     "data": {
      "text/plain": [
       "[('учеба', 0.7671624422073364),\n",
       " ('обед', 0.7502706050872803),\n",
       " ('тренировка', 0.7127838134765625),\n",
       " ('опаздывать', 0.7036625742912292),\n",
       " ('часы', 0.6855644583702087),\n",
       " ('завтрак', 0.6822073459625244),\n",
       " ('курсы', 0.6714437007904053),\n",
       " ('поезд', 0.6594482660293579),\n",
       " ('диета', 0.6593142747879028),\n",
       " ('диван', 0.659194827079773)]"
      ]
     },
     "execution_count": 9,
     "metadata": {
      "tags": []
     },
     "output_type": "execute_result"
    }
   ],
   "source": [
    "model.most_similar(\"работа\")"
   ]
  },
  {
   "cell_type": "code",
   "execution_count": 10,
   "metadata": {
    "colab": {
     "base_uri": "https://localhost:8080/"
    },
    "id": "V1c7OOToYl8b",
    "outputId": "05042932-af40-4fa6-c5aa-0644bbea010a"
   },
   "outputs": [
    {
     "data": {
      "text/plain": [
       "[('сентябрь', 0.8356351852416992),\n",
       " ('поездка', 0.8034392595291138),\n",
       " ('чемодан', 0.8027431964874268),\n",
       " ('перерыв', 0.7975696325302124),\n",
       " ('январь', 0.7913302183151245),\n",
       " ('абонемент', 0.7846832275390625),\n",
       " ('предвкушение', 0.7800015807151794),\n",
       " ('февраль', 0.7789637446403503),\n",
       " ('приход', 0.7741190791130066),\n",
       " ('старость', 0.7737945914268494)]"
      ]
     },
     "execution_count": 10,
     "metadata": {
      "tags": []
     },
     "output_type": "execute_result"
    }
   ],
   "source": [
    "model.most_similar(\"отпуск\")"
   ]
  },
  {
   "cell_type": "code",
   "execution_count": 11,
   "metadata": {
    "colab": {
     "base_uri": "https://localhost:8080/"
    },
    "id": "HU70k6E0Yl8b",
    "outputId": "0c7705f4-9d25-41b9-cb67-24b992bf5285"
   },
   "outputs": [
    {
     "data": {
      "text/plain": [
       "[('университет', 0.877152681350708),\n",
       " ('поступление', 0.8509038686752319),\n",
       " ('конгениальность!!!', 0.820006251335144),\n",
       " ('мисс', 0.7881093621253967),\n",
       " ('треник', 0.7729053497314453),\n",
       " ('встраивать', 0.7724400758743286),\n",
       " ('почтовый', 0.7696139812469482),\n",
       " ('нап', 0.7676159143447876),\n",
       " ('барановский', 0.7622361779212952),\n",
       " ('Mail', 0.7574166059494019)]"
      ]
     },
     "execution_count": 11,
     "metadata": {
      "tags": []
     },
     "output_type": "execute_result"
    }
   ],
   "source": [
    "vec = (model['университет'] - model['студент'] + model['школьник'])/3\n",
    "model.wv.similar_by_vector(vec)"
   ]
  },
  {
   "cell_type": "code",
   "execution_count": 12,
   "metadata": {
    "colab": {
     "base_uri": "https://localhost:8080/",
     "height": 36
    },
    "id": "yvrZPKAiYl8c",
    "outputId": "ca2f1459-3ea3-48e6-ce56-d75784925ff8"
   },
   "outputs": [
    {
     "data": {
      "application/vnd.google.colaboratory.intrinsic+json": {
       "type": "string"
      },
      "text/plain": [
       "'лето'"
      ]
     },
     "execution_count": 12,
     "metadata": {
      "tags": []
     },
     "output_type": "execute_result"
    }
   ],
   "source": [
    "model.doesnt_match(\"выходные отдых лето работа\".split())"
   ]
  },
  {
   "cell_type": "markdown",
   "metadata": {
    "id": "pYtaMx14Yl8c"
   },
   "source": [
    "### Word visualization"
   ]
  },
  {
   "cell_type": "code",
   "execution_count": 13,
   "metadata": {
    "colab": {
     "base_uri": "https://localhost:8080/"
    },
    "id": "oZtYU9-aYl8c",
    "outputId": "8bc24866-0089-4496-d35c-08535ce8a3b3",
    "scrolled": true
   },
   "outputs": [
    {
     "name": "stdout",
     "output_type": "stream",
     "text": [
      "['я', 'не', 'и', 'в', 'на', 'что', 'RT', 'а', 'http://t', 'быть', 'ты', 'с', 'как', 'то', 'у', 'это', ':(', 'так', ':', ')', '(', 'но', 'все', 'он', 'ну', 'по', 'мы', ':)', 'мой', 'за', 'весь', 'хотеть', 'такой', ':D', 'уже', 'этот', 'вот', 'же', 'только', 'день', 'да', 'кто', 'еще', 'сегодня', 'она', 'бы', 'когда', 'мочь', 'они', 'вы', 'к', 'очень', 'из', 'просто', 'нет', 'один', 'знать', 'какой', 'от', 'год', 'если', 'теперь', 'любить', 'человек', 'свой', 'co/', 'даже', 'о', 'надо', 'до', 'новый', 'завтра', 'тоже', 'там', 'вс', 'тот', 'вообще', '((', 'для', 'самый', 'хороший', 'себя', 'хорошо', 'сейчас', '))', 'почему', 'делать', 'который', 'думать', 'много', 'раз', 'понимать', 'сказать', '(((', 'блин', 'смотреть', 'без', 'время', 'спать', 'спасибо', 'или', 'тут', 'утро', ')))', 'говорить', 'идти', 'сидеть', 'со', 'пойти', 'давать', 'про', 'ничто', 'писать', 'сделать', 'всегда', 'можно', 'жизнь', 'друг', 'первый', 'скоро', 'сам', 'наш', 'где', 'мама', 'потом', 'школа', '!', 'час', 'т', 'ни', 'после', 'ещ', 'чтобы', 'опять', 'ночь', 'ждать', 'твой', 'настроение', 'становиться', 'чем', 'приходить', 'написать', 'пока', '/', 'никто', 'хотеться', 'последний', 'начинать', 'два', 'посмотреть', 'видеть', 'хоть', 'работа', 'любимый', 'добрый', 'болеть', 'находить', 'оставаться', 'забывать', 'ахах', 'каждый', 'купить', 'м', 'дело', 'во', 'другой', 'вечер', 'вчера', 'неделя', 'под', 'через', 'потому', 'нужно', 'дома', 'совсем', 'хотя', 'читать', 'нибудь', 'плохо', 'выходить', 'урок', 'ли', 'рано', 'голова', 'фильм', 'снег', 'ехать', 'нравиться', 'надеяться', 'никогда', 'ведь', 'жить', 'D', 'скучать', 'ходить', 'конечно', 'работать', 'нужный', 'тогда', 'жаль', 'дом', 'второй', ':((', 'ж', 'домой', 'телефон', 'пора', 'правда', 'равный', 'нга', 'решать', 'пара', 'приезжать', 'вроде', 'бля', 'мало', 'е', 'о_о', 'парень', '=(', 'таки', 'больше', 'сон', 'л', 'проходить', 'песня', 'улица', 'рука', '=)', 'уходить', 'ахи', 'слово', 'твиттер', 'новогодний', 'снова', 'его', 'вставать', 'точно', 'давно', 'увидеть', 'получаться', 'фотка', 'просыпаться', 'большой', 'уж', 'почти', '_', 'зачем', 'минута', 'играть', 'зима', 'место', 'помнить', 'девушка', 'куда', 'сразу', 'прямой', 'приходиться', 'gt', 'с:', 'кстати', '((((', 'чуть', 'получать', 'слушать', 'прощать', 'сильно', 'сколько', 'крутой', 'столько', 'ч', 'чувствовать', 'успевать', 'глаз', 'узнавать', 'подарок', 'оказываться', 'плохой', 'ваш', 'че', 'лента', 'б', 'должный', 'быстро', 'х', 'бояться', 'деньги', 'ненавидеть', 'выходной', 'наверное', 'взять', 'ибо', 'начинаться', 'смочь', 'сдавать', 'папа', 'конец', 'наконец', 'ладно', 'любовь', 'сходить', 'помогать', 'привет', 'класс', 'н', 'месяц', 'город', 'перед', 'lt', ':))', 'момент', 'при', 'стоять', 'собираться', 'маленький', 'рождение', 'русский', 'заканчиваться', 'щас', 'девочка', 'мир', 'нельзя', 'долго', 'ребенок', 'умирать', 'казаться', 'три', 'чувство', 'красивый', 'ой', 'вопрос', 'оно', 'целый', 'чтоб', 'музыка', 'нога', 'далеко', 'немного', 'об', 'отличный', 'россия', 'старый', 'милый', 'твит', 'серия', 'зато', 'эх', 'вспомнить', 'рад', 'экзамен', 'отвечать', 'есть', 'круто', 'бывать', 'жалко', 'уезжать', 'ребята', 'х)', 'иногда', 'интересно', 'история', 'блять', 'пол', 'гулять', 'норма', '))))', ':(((', 'поставлять', 'рассказывать', 'пить', 'поехать', 'плакать', 'слишком', 'пусть', 'фото', ':DD', ':|', 'учить', 'проблема', 'пиздец', 'счастие', 'игра', 'ложиться', 'уставать', 'подруга', 'поздравлять', 'именно', 'показывать', 'душа', 'убивать', 'главное', 'нормально', 'значит', 'ко', 'праздник', 'интересный', 'поэтому', 'может', 'каникулы', 'лето', 'й', 'вк', 'ужасный', 'машина', 'интернет', 'офигенный', 'учиться', 'погода', 'поход', 'спрашивать', 'зайти', 'уметь', 'проводить', 'сука', 'понравиться', 'полный', 'классный', 'ужасно', 'кот', 'нормальный', 'верить', 'родитель', 'пятница', 'приятно', 'лишь', 'прекрасный', 'группа', 'вместе', 'сей', 'часто', 'скучно', 'брат', 'тип', 'особенно', 'видео', 'боль', 'обидно', 'никак', 'подумать', 'ох', 'голос', 'магазин', 'ахахах', 'мысль', 'открывать', 'д', 'хватать', 'пытаться', 'новость', 'р', 'ага', '^_^', 'москва', 'следующий', 'боже', 'желание', 'представлять', 'рядом', 'встречать', 'кажется', 'подарить', ':)))', 'план', 'называть', 'всего', 'дорогой', 'понедельник', 'концерт', 'туда', 'заболевать', 'чай', 'обожать', 'бесить', ':с', 'назад', 'книга', 'их', 'реально', 'лицо', 'замечать', 'здесь', 'быть)', 'прочитывать', 'тема', 'сезон', 'приятный', 'заниматься', 'окно', 'сериал', 'будто', 'любой', 'попадать', 'никакой', 'amp', 'вромайдан', 'капец', 'искать', 'лежать', 'суббота', 'видимо']\n"
     ]
    }
   ],
   "source": [
    "top_words = []\n",
    "from nltk import FreqDist\n",
    "fd = FreqDist()\n",
    "for text in texts:\n",
    "    fd.update(text)\n",
    "for i in fd.most_common(500):\n",
    "    top_words.append(i[0])\n",
    "print(top_words)"
   ]
  },
  {
   "cell_type": "code",
   "execution_count": 14,
   "metadata": {
    "colab": {
     "base_uri": "https://localhost:8080/"
    },
    "id": "YARyONaAYl8d",
    "outputId": "24ea94ac-a5e7-4230-84f7-31e55123f060",
    "scrolled": true
   },
   "outputs": [
    {
     "data": {
      "text/plain": [
       "array([-0.6363014 , -0.38364857,  0.67462254, -0.13538995, -0.58942187,\n",
       "        0.17722686, -0.0286488 , -0.827227  , -0.04071098, -1.2250139 ,\n",
       "       -0.19946717,  0.73095506,  0.14801197, -0.19948354, -0.3882875 ,\n",
       "        0.11543974,  0.15100704,  0.06644918, -0.03391743,  0.17545381,\n",
       "       -0.31061447, -0.45939738, -0.37913564,  0.10598741,  0.20843883,\n",
       "       -0.5728652 , -0.72560316, -0.13106713, -0.2361299 , -0.36997348,\n",
       "       -0.23864672, -0.07265953, -0.04595259, -0.06772359,  0.02597556,\n",
       "       -0.47644934,  0.6055045 , -0.4391016 , -0.04928748,  0.8144339 ,\n",
       "       -0.7098598 ,  0.27850989, -0.76551586, -1.1690416 ,  0.23469923,\n",
       "       -0.229478  ,  0.56492335, -0.07030921,  0.4744698 ,  0.09050912,\n",
       "       -0.0202559 , -0.29140452,  0.1847878 ,  0.20564686, -0.08130527,\n",
       "       -0.68497056, -0.03538277,  0.23765668, -0.6580244 ,  0.39022058,\n",
       "        0.3478049 ,  0.3498165 , -0.23015235,  0.6777947 ,  0.6062621 ,\n",
       "       -0.07187664,  1.0061092 , -0.18290153, -0.31082192, -0.08820571,\n",
       "       -0.2919236 , -0.30265296, -0.64566034, -0.6832153 ,  0.32962298,\n",
       "        0.27336404, -0.17547438, -0.2958666 ,  0.08350118, -0.28222814,\n",
       "        0.35104492, -0.09397217,  0.7742156 ,  1.1687871 ,  0.30087137,\n",
       "        0.1060836 ,  0.97426206,  0.02551832, -0.314387  , -0.4394099 ,\n",
       "       -0.4525325 ,  0.8184656 , -0.10318396, -0.15779155, -0.18688875,\n",
       "        0.15469758, -0.06659235, -0.39633137,  0.26498657,  0.48849362,\n",
       "       -0.72640526,  0.1421474 ,  0.02050029, -0.7125963 , -0.21627498,\n",
       "       -0.36441594, -0.6797017 , -0.23060603,  0.01824912, -0.22448342,\n",
       "       -0.6891395 , -0.56952226,  0.4339033 ,  0.32983273, -0.1666045 ,\n",
       "        0.20687023,  0.45962453, -0.15614393, -0.04622312,  0.26614687,\n",
       "       -0.43304515, -0.57297593, -0.19941968, -0.21013841,  0.5479925 ,\n",
       "        0.11404074, -0.29497477,  0.05338996,  0.7965845 , -0.24696653,\n",
       "       -0.5640433 , -0.08994064, -0.19786581,  0.01594347,  0.0926444 ,\n",
       "        0.05068779, -0.61100084, -0.5786538 , -0.27697524, -0.23306783,\n",
       "        0.5216129 ,  0.2578247 ,  0.3119073 ,  0.58014244,  0.14347133,\n",
       "       -0.20918413,  0.9867649 ,  0.3165446 ,  1.2293262 , -0.46960354,\n",
       "        0.39781037, -0.41862118,  0.26460883, -0.81226116,  0.02782873,\n",
       "       -1.098794  ,  0.31860468,  0.3086329 ,  0.09363832,  0.7354482 ,\n",
       "        0.08439646,  0.00743027, -0.42749858,  0.5529065 ,  0.7104917 ,\n",
       "        0.14717484, -0.3657383 ,  0.19328183, -0.32315066,  0.28805125,\n",
       "       -0.07750806, -0.57032496,  0.45259982,  0.14962526, -0.5946496 ,\n",
       "       -0.02232584,  0.17930481,  0.44767287, -0.38466147, -0.07555554,\n",
       "       -0.0899086 , -0.22835428,  0.01882036,  1.0060923 , -0.20762292,\n",
       "        0.18936406, -0.18106304,  0.12445953,  0.1489078 ,  0.08711235,\n",
       "        0.14540142, -0.64762294, -0.46354285, -0.23453584,  0.9414046 ,\n",
       "       -0.25203633,  0.3079894 , -0.16712025,  0.21973567, -0.13583685,\n",
       "       -0.19907914, -0.44726962, -0.48056746,  0.32289684,  0.02208473,\n",
       "       -0.27594832, -0.11423746, -0.12055129,  0.6954271 , -0.5536995 ,\n",
       "       -0.81473243,  0.28938088,  0.0306812 , -0.29223096,  0.18866345,\n",
       "       -0.5144629 , -0.11172856,  0.56940717,  0.21489352,  0.00451269,\n",
       "       -0.53690594,  0.45435578, -0.65460855, -0.97402513,  0.7447514 ,\n",
       "        0.8594073 ,  0.15346676,  0.26066896,  0.88113457, -0.8856114 ,\n",
       "       -0.2984233 ,  0.06846383, -0.17855738, -0.26785326, -0.11066794,\n",
       "        0.52140826,  0.3464938 , -0.26297033, -0.4235713 , -0.13475898,\n",
       "       -0.2781011 , -0.5065844 , -0.27096167, -0.3213036 , -0.4250741 ,\n",
       "        0.7059187 ,  0.998454  , -0.9072909 , -0.65972304,  0.23532215,\n",
       "       -0.4895765 , -0.07773327, -0.79024994, -0.2052918 ,  0.03920739,\n",
       "       -0.6608514 ,  0.04406683, -0.45777345, -0.4457511 ,  0.1712057 ,\n",
       "        0.29221076, -0.16595435, -0.38569716, -0.21248774,  0.5731411 ,\n",
       "       -0.33662134, -0.8221578 , -0.27248487, -0.18290712, -0.4333809 ,\n",
       "        0.35154462,  0.68973   ,  0.4337858 , -0.28489473,  0.84776753,\n",
       "       -0.2593808 , -0.02414824,  0.6766882 ,  0.35960886, -0.3440411 ,\n",
       "       -1.3509734 , -0.17295249, -0.46939266,  0.5227369 ,  0.07177223,\n",
       "        0.07679678,  0.03100085,  0.7771796 ,  0.01087895,  0.3427594 ,\n",
       "        0.2062926 ,  0.31222263,  0.03487893, -0.3144019 , -0.1920778 ,\n",
       "        0.2933349 , -0.50240403,  0.12663098,  0.24771525, -0.15882222],\n",
       "      dtype=float32)"
      ]
     },
     "execution_count": 14,
     "metadata": {
      "tags": []
     },
     "output_type": "execute_result"
    }
   ],
   "source": [
    "model['рабочий']"
   ]
  },
  {
   "cell_type": "code",
   "execution_count": 15,
   "metadata": {
    "id": "4ToHzq54Yl8d"
   },
   "outputs": [],
   "source": [
    "top_words_vec = model[top_words]"
   ]
  },
  {
   "cell_type": "code",
   "execution_count": 16,
   "metadata": {
    "colab": {
     "base_uri": "https://localhost:8080/"
    },
    "id": "5d1EN8PgYl8d",
    "outputId": "de7795cf-b8b7-415d-9eb3-b0f6cf30a11b"
   },
   "outputs": [
    {
     "data": {
      "text/plain": [
       "(500, 300)"
      ]
     },
     "execution_count": 16,
     "metadata": {
      "tags": []
     },
     "output_type": "execute_result"
    }
   ],
   "source": [
    "top_words_vec.shape"
   ]
  },
  {
   "cell_type": "code",
   "execution_count": 17,
   "metadata": {
    "id": "dxhFpMMVYl8d"
   },
   "outputs": [],
   "source": [
    "from sklearn.manifold import TSNE\n",
    "tsne = TSNE(n_components=2, random_state=0)\n",
    "top_words_tsne = tsne.fit_transform(top_words_vec)"
   ]
  },
  {
   "cell_type": "code",
   "execution_count": 18,
   "metadata": {
    "colab": {
     "base_uri": "https://localhost:8080/",
     "height": 617
    },
    "id": "ZqhbFtYsYl8d",
    "outputId": "142fbc8c-bf56-4fef-ac92-a5635df43a5b"
   },
   "outputs": [
    {
     "data": {
      "application/javascript": [
       "\n",
       "(function(root) {\n",
       "  function now() {\n",
       "    return new Date();\n",
       "  }\n",
       "\n",
       "  var force = true;\n",
       "\n",
       "  if (typeof root._bokeh_onload_callbacks === \"undefined\" || force === true) {\n",
       "    root._bokeh_onload_callbacks = [];\n",
       "    root._bokeh_is_loading = undefined;\n",
       "  }\n",
       "\n",
       "  var JS_MIME_TYPE = 'application/javascript';\n",
       "  var HTML_MIME_TYPE = 'text/html';\n",
       "  var EXEC_MIME_TYPE = 'application/vnd.bokehjs_exec.v0+json';\n",
       "  var CLASS_NAME = 'output_bokeh rendered_html';\n",
       "\n",
       "  /**\n",
       "   * Render data to the DOM node\n",
       "   */\n",
       "  function render(props, node) {\n",
       "    var script = document.createElement(\"script\");\n",
       "    node.appendChild(script);\n",
       "  }\n",
       "\n",
       "  /**\n",
       "   * Handle when an output is cleared or removed\n",
       "   */\n",
       "  function handleClearOutput(event, handle) {\n",
       "    var cell = handle.cell;\n",
       "\n",
       "    var id = cell.output_area._bokeh_element_id;\n",
       "    var server_id = cell.output_area._bokeh_server_id;\n",
       "    // Clean up Bokeh references\n",
       "    if (id != null && id in Bokeh.index) {\n",
       "      Bokeh.index[id].model.document.clear();\n",
       "      delete Bokeh.index[id];\n",
       "    }\n",
       "\n",
       "    if (server_id !== undefined) {\n",
       "      // Clean up Bokeh references\n",
       "      var cmd = \"from bokeh.io.state import curstate; print(curstate().uuid_to_server['\" + server_id + \"'].get_sessions()[0].document.roots[0]._id)\";\n",
       "      cell.notebook.kernel.execute(cmd, {\n",
       "        iopub: {\n",
       "          output: function(msg) {\n",
       "            var id = msg.content.text.trim();\n",
       "            if (id in Bokeh.index) {\n",
       "              Bokeh.index[id].model.document.clear();\n",
       "              delete Bokeh.index[id];\n",
       "            }\n",
       "          }\n",
       "        }\n",
       "      });\n",
       "      // Destroy server and session\n",
       "      var cmd = \"import bokeh.io.notebook as ion; ion.destroy_server('\" + server_id + \"')\";\n",
       "      cell.notebook.kernel.execute(cmd);\n",
       "    }\n",
       "  }\n",
       "\n",
       "  /**\n",
       "   * Handle when a new output is added\n",
       "   */\n",
       "  function handleAddOutput(event, handle) {\n",
       "    var output_area = handle.output_area;\n",
       "    var output = handle.output;\n",
       "\n",
       "    // limit handleAddOutput to display_data with EXEC_MIME_TYPE content only\n",
       "    if ((output.output_type != \"display_data\") || (!Object.prototype.hasOwnProperty.call(output.data, EXEC_MIME_TYPE))) {\n",
       "      return\n",
       "    }\n",
       "\n",
       "    var toinsert = output_area.element.find(\".\" + CLASS_NAME.split(' ')[0]);\n",
       "\n",
       "    if (output.metadata[EXEC_MIME_TYPE][\"id\"] !== undefined) {\n",
       "      toinsert[toinsert.length - 1].firstChild.textContent = output.data[JS_MIME_TYPE];\n",
       "      // store reference to embed id on output_area\n",
       "      output_area._bokeh_element_id = output.metadata[EXEC_MIME_TYPE][\"id\"];\n",
       "    }\n",
       "    if (output.metadata[EXEC_MIME_TYPE][\"server_id\"] !== undefined) {\n",
       "      var bk_div = document.createElement(\"div\");\n",
       "      bk_div.innerHTML = output.data[HTML_MIME_TYPE];\n",
       "      var script_attrs = bk_div.children[0].attributes;\n",
       "      for (var i = 0; i < script_attrs.length; i++) {\n",
       "        toinsert[toinsert.length - 1].firstChild.setAttribute(script_attrs[i].name, script_attrs[i].value);\n",
       "        toinsert[toinsert.length - 1].firstChild.textContent = bk_div.children[0].textContent\n",
       "      }\n",
       "      // store reference to server id on output_area\n",
       "      output_area._bokeh_server_id = output.metadata[EXEC_MIME_TYPE][\"server_id\"];\n",
       "    }\n",
       "  }\n",
       "\n",
       "  function register_renderer(events, OutputArea) {\n",
       "\n",
       "    function append_mime(data, metadata, element) {\n",
       "      // create a DOM node to render to\n",
       "      var toinsert = this.create_output_subarea(\n",
       "        metadata,\n",
       "        CLASS_NAME,\n",
       "        EXEC_MIME_TYPE\n",
       "      );\n",
       "      this.keyboard_manager.register_events(toinsert);\n",
       "      // Render to node\n",
       "      var props = {data: data, metadata: metadata[EXEC_MIME_TYPE]};\n",
       "      render(props, toinsert[toinsert.length - 1]);\n",
       "      element.append(toinsert);\n",
       "      return toinsert\n",
       "    }\n",
       "\n",
       "    /* Handle when an output is cleared or removed */\n",
       "    events.on('clear_output.CodeCell', handleClearOutput);\n",
       "    events.on('delete.Cell', handleClearOutput);\n",
       "\n",
       "    /* Handle when a new output is added */\n",
       "    events.on('output_added.OutputArea', handleAddOutput);\n",
       "\n",
       "    /**\n",
       "     * Register the mime type and append_mime function with output_area\n",
       "     */\n",
       "    OutputArea.prototype.register_mime_type(EXEC_MIME_TYPE, append_mime, {\n",
       "      /* Is output safe? */\n",
       "      safe: true,\n",
       "      /* Index of renderer in `output_area.display_order` */\n",
       "      index: 0\n",
       "    });\n",
       "  }\n",
       "\n",
       "  // register the mime type if in Jupyter Notebook environment and previously unregistered\n",
       "  if (root.Jupyter !== undefined) {\n",
       "    var events = require('base/js/events');\n",
       "    var OutputArea = require('notebook/js/outputarea').OutputArea;\n",
       "\n",
       "    if (OutputArea.prototype.mime_types().indexOf(EXEC_MIME_TYPE) == -1) {\n",
       "      register_renderer(events, OutputArea);\n",
       "    }\n",
       "  }\n",
       "\n",
       "  \n",
       "  if (typeof (root._bokeh_timeout) === \"undefined\" || force === true) {\n",
       "    root._bokeh_timeout = Date.now() + 5000;\n",
       "    root._bokeh_failed_load = false;\n",
       "  }\n",
       "\n",
       "  var NB_LOAD_WARNING = {'data': {'text/html':\n",
       "     \"<div style='background-color: #fdd'>\\n\"+\n",
       "     \"<p>\\n\"+\n",
       "     \"BokehJS does not appear to have successfully loaded. If loading BokehJS from CDN, this \\n\"+\n",
       "     \"may be due to a slow or bad network connection. Possible fixes:\\n\"+\n",
       "     \"</p>\\n\"+\n",
       "     \"<ul>\\n\"+\n",
       "     \"<li>re-rerun `output_notebook()` to attempt to load from CDN again, or</li>\\n\"+\n",
       "     \"<li>use INLINE resources instead, as so:</li>\\n\"+\n",
       "     \"</ul>\\n\"+\n",
       "     \"<code>\\n\"+\n",
       "     \"from bokeh.resources import INLINE\\n\"+\n",
       "     \"output_notebook(resources=INLINE)\\n\"+\n",
       "     \"</code>\\n\"+\n",
       "     \"</div>\"}};\n",
       "\n",
       "  function display_loaded() {\n",
       "    var el = document.getElementById(null);\n",
       "    if (el != null) {\n",
       "      el.textContent = \"BokehJS is loading...\";\n",
       "    }\n",
       "    if (root.Bokeh !== undefined) {\n",
       "      if (el != null) {\n",
       "        el.textContent = \"BokehJS \" + root.Bokeh.version + \" successfully loaded.\";\n",
       "      }\n",
       "    } else if (Date.now() < root._bokeh_timeout) {\n",
       "      setTimeout(display_loaded, 100)\n",
       "    }\n",
       "  }\n",
       "\n",
       "\n",
       "  function run_callbacks() {\n",
       "    try {\n",
       "      root._bokeh_onload_callbacks.forEach(function(callback) {\n",
       "        if (callback != null)\n",
       "          callback();\n",
       "      });\n",
       "    } finally {\n",
       "      delete root._bokeh_onload_callbacks\n",
       "    }\n",
       "    console.debug(\"Bokeh: all callbacks have finished\");\n",
       "  }\n",
       "\n",
       "  function load_libs(css_urls, js_urls, callback) {\n",
       "    if (css_urls == null) css_urls = [];\n",
       "    if (js_urls == null) js_urls = [];\n",
       "\n",
       "    root._bokeh_onload_callbacks.push(callback);\n",
       "    if (root._bokeh_is_loading > 0) {\n",
       "      console.debug(\"Bokeh: BokehJS is being loaded, scheduling callback at\", now());\n",
       "      return null;\n",
       "    }\n",
       "    if (js_urls == null || js_urls.length === 0) {\n",
       "      run_callbacks();\n",
       "      return null;\n",
       "    }\n",
       "    console.debug(\"Bokeh: BokehJS not loaded, scheduling load and callback at\", now());\n",
       "    root._bokeh_is_loading = css_urls.length + js_urls.length;\n",
       "\n",
       "    function on_load() {\n",
       "      root._bokeh_is_loading--;\n",
       "      if (root._bokeh_is_loading === 0) {\n",
       "        console.debug(\"Bokeh: all BokehJS libraries/stylesheets loaded\");\n",
       "        run_callbacks()\n",
       "      }\n",
       "    }\n",
       "\n",
       "    function on_error(url) {\n",
       "      console.error(\"failed to load \" + url);\n",
       "    }\n",
       "\n",
       "    for (let i = 0; i < css_urls.length; i++) {\n",
       "      const url = css_urls[i];\n",
       "      const element = document.createElement(\"link\");\n",
       "      element.onload = on_load;\n",
       "      element.onerror = on_error.bind(null, url);\n",
       "      element.rel = \"stylesheet\";\n",
       "      element.type = \"text/css\";\n",
       "      element.href = url;\n",
       "      console.debug(\"Bokeh: injecting link tag for BokehJS stylesheet: \", url);\n",
       "      document.body.appendChild(element);\n",
       "    }\n",
       "\n",
       "    const hashes = {\"https://cdn.bokeh.org/bokeh/release/bokeh-2.3.3.min.js\": \"dM3QQsP+wXdHg42wTqW85BjZQdLNNIXqlPw/BgKoExPmTG7ZLML4EGqLMfqHT6ON\", \"https://cdn.bokeh.org/bokeh/release/bokeh-tables-2.3.3.min.js\": \"8x57I4YuIfu8XyZfFo0XVr2WAT8EK4rh/uDe3wF7YuW2FNUSNEpJbsPaB1nJ2fz2\", \"https://cdn.bokeh.org/bokeh/release/bokeh-widgets-2.3.3.min.js\": \"3QTqdz9LyAm2i0sG5XTePsHec3UHWwVsrOL68SYRoAXsafvfAyqtQ+h440+qIBhS\"};\n",
       "\n",
       "    for (let i = 0; i < js_urls.length; i++) {\n",
       "      const url = js_urls[i];\n",
       "      const element = document.createElement('script');\n",
       "      element.onload = on_load;\n",
       "      element.onerror = on_error.bind(null, url);\n",
       "      element.async = false;\n",
       "      element.src = url;\n",
       "      if (url in hashes) {\n",
       "        element.crossOrigin = \"anonymous\";\n",
       "        element.integrity = \"sha384-\" + hashes[url];\n",
       "      }\n",
       "      console.debug(\"Bokeh: injecting script tag for BokehJS library: \", url);\n",
       "      document.head.appendChild(element);\n",
       "    }\n",
       "  };\n",
       "\n",
       "  function inject_raw_css(css) {\n",
       "    const element = document.createElement(\"style\");\n",
       "    element.appendChild(document.createTextNode(css));\n",
       "    document.body.appendChild(element);\n",
       "  }\n",
       "\n",
       "  \n",
       "  var js_urls = [\"https://cdn.bokeh.org/bokeh/release/bokeh-2.3.3.min.js\", \"https://cdn.bokeh.org/bokeh/release/bokeh-widgets-2.3.3.min.js\", \"https://cdn.bokeh.org/bokeh/release/bokeh-tables-2.3.3.min.js\"];\n",
       "  var css_urls = [];\n",
       "  \n",
       "\n",
       "  var inline_js = [\n",
       "    function(Bokeh) {\n",
       "      Bokeh.set_log_level(\"info\");\n",
       "    },\n",
       "    function(Bokeh) {\n",
       "    \n",
       "    \n",
       "    }\n",
       "  ];\n",
       "\n",
       "  function run_inline_js() {\n",
       "    \n",
       "    if (root.Bokeh !== undefined || force === true) {\n",
       "      \n",
       "    for (var i = 0; i < inline_js.length; i++) {\n",
       "      inline_js[i].call(root, root.Bokeh);\n",
       "    }\n",
       "    } else if (Date.now() < root._bokeh_timeout) {\n",
       "      setTimeout(run_inline_js, 100);\n",
       "    } else if (!root._bokeh_failed_load) {\n",
       "      console.log(\"Bokeh: BokehJS failed to load within specified timeout.\");\n",
       "      root._bokeh_failed_load = true;\n",
       "    } else if (force !== true) {\n",
       "      var cell = $(document.getElementById(null)).parents('.cell').data().cell;\n",
       "      cell.output_area.append_execute_result(NB_LOAD_WARNING)\n",
       "    }\n",
       "\n",
       "  }\n",
       "\n",
       "  if (root._bokeh_is_loading === 0) {\n",
       "    console.debug(\"Bokeh: BokehJS loaded, going straight to plotting\");\n",
       "    run_inline_js();\n",
       "  } else {\n",
       "    load_libs(css_urls, js_urls, function() {\n",
       "      console.debug(\"Bokeh: BokehJS plotting callback run at\", now());\n",
       "      run_inline_js();\n",
       "    });\n",
       "  }\n",
       "}(window));"
      ],
      "application/vnd.bokehjs_load.v0+json": "\n(function(root) {\n  function now() {\n    return new Date();\n  }\n\n  var force = true;\n\n  if (typeof root._bokeh_onload_callbacks === \"undefined\" || force === true) {\n    root._bokeh_onload_callbacks = [];\n    root._bokeh_is_loading = undefined;\n  }\n\n  \n\n  \n  if (typeof (root._bokeh_timeout) === \"undefined\" || force === true) {\n    root._bokeh_timeout = Date.now() + 5000;\n    root._bokeh_failed_load = false;\n  }\n\n  var NB_LOAD_WARNING = {'data': {'text/html':\n     \"<div style='background-color: #fdd'>\\n\"+\n     \"<p>\\n\"+\n     \"BokehJS does not appear to have successfully loaded. If loading BokehJS from CDN, this \\n\"+\n     \"may be due to a slow or bad network connection. Possible fixes:\\n\"+\n     \"</p>\\n\"+\n     \"<ul>\\n\"+\n     \"<li>re-rerun `output_notebook()` to attempt to load from CDN again, or</li>\\n\"+\n     \"<li>use INLINE resources instead, as so:</li>\\n\"+\n     \"</ul>\\n\"+\n     \"<code>\\n\"+\n     \"from bokeh.resources import INLINE\\n\"+\n     \"output_notebook(resources=INLINE)\\n\"+\n     \"</code>\\n\"+\n     \"</div>\"}};\n\n  function display_loaded() {\n    var el = document.getElementById(null);\n    if (el != null) {\n      el.textContent = \"BokehJS is loading...\";\n    }\n    if (root.Bokeh !== undefined) {\n      if (el != null) {\n        el.textContent = \"BokehJS \" + root.Bokeh.version + \" successfully loaded.\";\n      }\n    } else if (Date.now() < root._bokeh_timeout) {\n      setTimeout(display_loaded, 100)\n    }\n  }\n\n\n  function run_callbacks() {\n    try {\n      root._bokeh_onload_callbacks.forEach(function(callback) {\n        if (callback != null)\n          callback();\n      });\n    } finally {\n      delete root._bokeh_onload_callbacks\n    }\n    console.debug(\"Bokeh: all callbacks have finished\");\n  }\n\n  function load_libs(css_urls, js_urls, callback) {\n    if (css_urls == null) css_urls = [];\n    if (js_urls == null) js_urls = [];\n\n    root._bokeh_onload_callbacks.push(callback);\n    if (root._bokeh_is_loading > 0) {\n      console.debug(\"Bokeh: BokehJS is being loaded, scheduling callback at\", now());\n      return null;\n    }\n    if (js_urls == null || js_urls.length === 0) {\n      run_callbacks();\n      return null;\n    }\n    console.debug(\"Bokeh: BokehJS not loaded, scheduling load and callback at\", now());\n    root._bokeh_is_loading = css_urls.length + js_urls.length;\n\n    function on_load() {\n      root._bokeh_is_loading--;\n      if (root._bokeh_is_loading === 0) {\n        console.debug(\"Bokeh: all BokehJS libraries/stylesheets loaded\");\n        run_callbacks()\n      }\n    }\n\n    function on_error(url) {\n      console.error(\"failed to load \" + url);\n    }\n\n    for (let i = 0; i < css_urls.length; i++) {\n      const url = css_urls[i];\n      const element = document.createElement(\"link\");\n      element.onload = on_load;\n      element.onerror = on_error.bind(null, url);\n      element.rel = \"stylesheet\";\n      element.type = \"text/css\";\n      element.href = url;\n      console.debug(\"Bokeh: injecting link tag for BokehJS stylesheet: \", url);\n      document.body.appendChild(element);\n    }\n\n    const hashes = {\"https://cdn.bokeh.org/bokeh/release/bokeh-2.3.3.min.js\": \"dM3QQsP+wXdHg42wTqW85BjZQdLNNIXqlPw/BgKoExPmTG7ZLML4EGqLMfqHT6ON\", \"https://cdn.bokeh.org/bokeh/release/bokeh-tables-2.3.3.min.js\": \"8x57I4YuIfu8XyZfFo0XVr2WAT8EK4rh/uDe3wF7YuW2FNUSNEpJbsPaB1nJ2fz2\", \"https://cdn.bokeh.org/bokeh/release/bokeh-widgets-2.3.3.min.js\": \"3QTqdz9LyAm2i0sG5XTePsHec3UHWwVsrOL68SYRoAXsafvfAyqtQ+h440+qIBhS\"};\n\n    for (let i = 0; i < js_urls.length; i++) {\n      const url = js_urls[i];\n      const element = document.createElement('script');\n      element.onload = on_load;\n      element.onerror = on_error.bind(null, url);\n      element.async = false;\n      element.src = url;\n      if (url in hashes) {\n        element.crossOrigin = \"anonymous\";\n        element.integrity = \"sha384-\" + hashes[url];\n      }\n      console.debug(\"Bokeh: injecting script tag for BokehJS library: \", url);\n      document.head.appendChild(element);\n    }\n  };\n\n  function inject_raw_css(css) {\n    const element = document.createElement(\"style\");\n    element.appendChild(document.createTextNode(css));\n    document.body.appendChild(element);\n  }\n\n  \n  var js_urls = [\"https://cdn.bokeh.org/bokeh/release/bokeh-2.3.3.min.js\", \"https://cdn.bokeh.org/bokeh/release/bokeh-widgets-2.3.3.min.js\", \"https://cdn.bokeh.org/bokeh/release/bokeh-tables-2.3.3.min.js\"];\n  var css_urls = [];\n  \n\n  var inline_js = [\n    function(Bokeh) {\n      Bokeh.set_log_level(\"info\");\n    },\n    function(Bokeh) {\n    \n    \n    }\n  ];\n\n  function run_inline_js() {\n    \n    if (root.Bokeh !== undefined || force === true) {\n      \n    for (var i = 0; i < inline_js.length; i++) {\n      inline_js[i].call(root, root.Bokeh);\n    }\n    } else if (Date.now() < root._bokeh_timeout) {\n      setTimeout(run_inline_js, 100);\n    } else if (!root._bokeh_failed_load) {\n      console.log(\"Bokeh: BokehJS failed to load within specified timeout.\");\n      root._bokeh_failed_load = true;\n    } else if (force !== true) {\n      var cell = $(document.getElementById(null)).parents('.cell').data().cell;\n      cell.output_area.append_execute_result(NB_LOAD_WARNING)\n    }\n\n  }\n\n  if (root._bokeh_is_loading === 0) {\n    console.debug(\"Bokeh: BokehJS loaded, going straight to plotting\");\n    run_inline_js();\n  } else {\n    load_libs(css_urls, js_urls, function() {\n      console.debug(\"Bokeh: BokehJS plotting callback run at\", now());\n      run_inline_js();\n    });\n  }\n}(window));"
     },
     "metadata": {
      "tags": []
     },
     "output_type": "display_data"
    },
    {
     "data": {
      "text/html": [
       "\n",
       "\n",
       "\n",
       "\n",
       "\n",
       "\n",
       "  <div class=\"bk-root\" id=\"c642f19c-fa90-4bde-bd54-cba538979e21\" data-root-id=\"1002\"></div>\n"
      ]
     },
     "metadata": {
      "tags": []
     },
     "output_type": "display_data"
    },
    {
     "data": {
      "application/javascript": [
       "(function(root) {\n",
       "  function embed_document(root) {\n",
       "    \n",
       "  var docs_json = {\"84026d49-0457-4085-ab7a-cfefe3db61c9\":{\"defs\":[],\"roots\":{\"references\":[{\"attributes\":{\"below\":[{\"id\":\"1013\"}],\"center\":[{\"id\":\"1016\"},{\"id\":\"1020\"},{\"id\":\"1036\"}],\"left\":[{\"id\":\"1017\"}],\"renderers\":[{\"id\":\"1034\"}],\"title\":{\"id\":\"1003\"},\"toolbar\":{\"id\":\"1025\"},\"toolbar_location\":\"above\",\"x_range\":{\"id\":\"1005\"},\"x_scale\":{\"id\":\"1009\"},\"y_range\":{\"id\":\"1007\"},\"y_scale\":{\"id\":\"1011\"}},\"id\":\"1002\",\"subtype\":\"Figure\",\"type\":\"Plot\"},{\"attributes\":{},\"id\":\"1005\",\"type\":\"DataRange1d\"},{\"attributes\":{},\"id\":\"1043\",\"type\":\"AllLabels\"},{\"attributes\":{\"formatter\":{\"id\":\"1044\"},\"major_label_policy\":{\"id\":\"1043\"},\"ticker\":{\"id\":\"1018\"}},\"id\":\"1017\",\"type\":\"LinearAxis\"},{\"attributes\":{},\"id\":\"1007\",\"type\":\"DataRange1d\"},{\"attributes\":{\"source\":{\"id\":\"1030\"}},\"id\":\"1035\",\"type\":\"CDSView\"},{\"attributes\":{},\"id\":\"1014\",\"type\":\"BasicTicker\"},{\"attributes\":{\"text\":\"word2vec T-SNE for most common words\"},\"id\":\"1003\",\"type\":\"Title\"},{\"attributes\":{},\"id\":\"1009\",\"type\":\"LinearScale\"},{\"attributes\":{},\"id\":\"1046\",\"type\":\"Selection\"},{\"attributes\":{\"axis\":{\"id\":\"1013\"},\"ticker\":null},\"id\":\"1016\",\"type\":\"Grid\"},{\"attributes\":{},\"id\":\"1011\",\"type\":\"LinearScale\"},{\"attributes\":{\"active_multi\":null,\"tools\":[{\"id\":\"1021\"},{\"id\":\"1022\"},{\"id\":\"1023\"},{\"id\":\"1024\"}]},\"id\":\"1025\",\"type\":\"Toolbar\"},{\"attributes\":{\"formatter\":{\"id\":\"1041\"},\"major_label_policy\":{\"id\":\"1040\"},\"ticker\":{\"id\":\"1014\"}},\"id\":\"1013\",\"type\":\"LinearAxis\"},{\"attributes\":{},\"id\":\"1044\",\"type\":\"BasicTickFormatter\"},{\"attributes\":{},\"id\":\"1018\",\"type\":\"BasicTicker\"},{\"attributes\":{},\"id\":\"1021\",\"type\":\"PanTool\"},{\"attributes\":{\"axis\":{\"id\":\"1017\"},\"dimension\":1,\"ticker\":null},\"id\":\"1020\",\"type\":\"Grid\"},{\"attributes\":{\"source\":{\"id\":\"1030\"},\"text\":{\"field\":\"names\"},\"text_align\":{\"value\":\"center\"},\"text_color\":{\"value\":\"#555555\"},\"text_font_size\":{\"value\":\"8pt\"},\"x\":{\"field\":\"x1\"},\"y\":{\"field\":\"x2\"},\"y_offset\":{\"value\":6}},\"id\":\"1036\",\"type\":\"LabelSet\"},{\"attributes\":{},\"id\":\"1040\",\"type\":\"AllLabels\"},{\"attributes\":{},\"id\":\"1041\",\"type\":\"BasicTickFormatter\"},{\"attributes\":{\"fill_alpha\":{\"value\":0.1},\"fill_color\":{\"value\":\"#1f77b4\"},\"line_alpha\":{\"value\":0.1},\"line_color\":{\"value\":\"#1f77b4\"},\"size\":{\"value\":8},\"x\":{\"field\":\"x1\"},\"y\":{\"field\":\"x2\"}},\"id\":\"1033\",\"type\":\"Scatter\"},{\"attributes\":{},\"id\":\"1022\",\"type\":\"WheelZoomTool\"},{\"attributes\":{},\"id\":\"1045\",\"type\":\"UnionRenderers\"},{\"attributes\":{\"data\":{\"names\":[\"\\u044f\",\"\\u043d\\u0435\",\"\\u0438\",\"\\u0432\",\"\\u043d\\u0430\",\"\\u0447\\u0442\\u043e\",\"RT\",\"\\u0430\",\"http://t\",\"\\u0431\\u044b\\u0442\\u044c\",\"\\u0442\\u044b\",\"\\u0441\",\"\\u043a\\u0430\\u043a\",\"\\u0442\\u043e\",\"\\u0443\",\"\\u044d\\u0442\\u043e\",\":(\",\"\\u0442\\u0430\\u043a\",\":\",\")\",\"(\",\"\\u043d\\u043e\",\"\\u0432\\u0441\\u0435\",\"\\u043e\\u043d\",\"\\u043d\\u0443\",\"\\u043f\\u043e\",\"\\u043c\\u044b\",\":)\",\"\\u043c\\u043e\\u0439\",\"\\u0437\\u0430\",\"\\u0432\\u0435\\u0441\\u044c\",\"\\u0445\\u043e\\u0442\\u0435\\u0442\\u044c\",\"\\u0442\\u0430\\u043a\\u043e\\u0439\",\":D\",\"\\u0443\\u0436\\u0435\",\"\\u044d\\u0442\\u043e\\u0442\",\"\\u0432\\u043e\\u0442\",\"\\u0436\\u0435\",\"\\u0442\\u043e\\u043b\\u044c\\u043a\\u043e\",\"\\u0434\\u0435\\u043d\\u044c\",\"\\u0434\\u0430\",\"\\u043a\\u0442\\u043e\",\"\\u0435\\u0449\\u0435\",\"\\u0441\\u0435\\u0433\\u043e\\u0434\\u043d\\u044f\",\"\\u043e\\u043d\\u0430\",\"\\u0431\\u044b\",\"\\u043a\\u043e\\u0433\\u0434\\u0430\",\"\\u043c\\u043e\\u0447\\u044c\",\"\\u043e\\u043d\\u0438\",\"\\u0432\\u044b\",\"\\u043a\",\"\\u043e\\u0447\\u0435\\u043d\\u044c\",\"\\u0438\\u0437\",\"\\u043f\\u0440\\u043e\\u0441\\u0442\\u043e\",\"\\u043d\\u0435\\u0442\",\"\\u043e\\u0434\\u0438\\u043d\",\"\\u0437\\u043d\\u0430\\u0442\\u044c\",\"\\u043a\\u0430\\u043a\\u043e\\u0439\",\"\\u043e\\u0442\",\"\\u0433\\u043e\\u0434\",\"\\u0435\\u0441\\u043b\\u0438\",\"\\u0442\\u0435\\u043f\\u0435\\u0440\\u044c\",\"\\u043b\\u044e\\u0431\\u0438\\u0442\\u044c\",\"\\u0447\\u0435\\u043b\\u043e\\u0432\\u0435\\u043a\",\"\\u0441\\u0432\\u043e\\u0439\",\"co/\",\"\\u0434\\u0430\\u0436\\u0435\",\"\\u043e\",\"\\u043d\\u0430\\u0434\\u043e\",\"\\u0434\\u043e\",\"\\u043d\\u043e\\u0432\\u044b\\u0439\",\"\\u0437\\u0430\\u0432\\u0442\\u0440\\u0430\",\"\\u0442\\u043e\\u0436\\u0435\",\"\\u0442\\u0430\\u043c\",\"\\u0432\\u0441\",\"\\u0442\\u043e\\u0442\",\"\\u0432\\u043e\\u043e\\u0431\\u0449\\u0435\",\"((\",\"\\u0434\\u043b\\u044f\",\"\\u0441\\u0430\\u043c\\u044b\\u0439\",\"\\u0445\\u043e\\u0440\\u043e\\u0448\\u0438\\u0439\",\"\\u0441\\u0435\\u0431\\u044f\",\"\\u0445\\u043e\\u0440\\u043e\\u0448\\u043e\",\"\\u0441\\u0435\\u0439\\u0447\\u0430\\u0441\",\"))\",\"\\u043f\\u043e\\u0447\\u0435\\u043c\\u0443\",\"\\u0434\\u0435\\u043b\\u0430\\u0442\\u044c\",\"\\u043a\\u043e\\u0442\\u043e\\u0440\\u044b\\u0439\",\"\\u0434\\u0443\\u043c\\u0430\\u0442\\u044c\",\"\\u043c\\u043d\\u043e\\u0433\\u043e\",\"\\u0440\\u0430\\u0437\",\"\\u043f\\u043e\\u043d\\u0438\\u043c\\u0430\\u0442\\u044c\",\"\\u0441\\u043a\\u0430\\u0437\\u0430\\u0442\\u044c\",\"(((\",\"\\u0431\\u043b\\u0438\\u043d\",\"\\u0441\\u043c\\u043e\\u0442\\u0440\\u0435\\u0442\\u044c\",\"\\u0431\\u0435\\u0437\",\"\\u0432\\u0440\\u0435\\u043c\\u044f\",\"\\u0441\\u043f\\u0430\\u0442\\u044c\",\"\\u0441\\u043f\\u0430\\u0441\\u0438\\u0431\\u043e\",\"\\u0438\\u043b\\u0438\",\"\\u0442\\u0443\\u0442\",\"\\u0443\\u0442\\u0440\\u043e\",\")))\",\"\\u0433\\u043e\\u0432\\u043e\\u0440\\u0438\\u0442\\u044c\",\"\\u0438\\u0434\\u0442\\u0438\",\"\\u0441\\u0438\\u0434\\u0435\\u0442\\u044c\",\"\\u0441\\u043e\",\"\\u043f\\u043e\\u0439\\u0442\\u0438\",\"\\u0434\\u0430\\u0432\\u0430\\u0442\\u044c\",\"\\u043f\\u0440\\u043e\",\"\\u043d\\u0438\\u0447\\u0442\\u043e\",\"\\u043f\\u0438\\u0441\\u0430\\u0442\\u044c\",\"\\u0441\\u0434\\u0435\\u043b\\u0430\\u0442\\u044c\",\"\\u0432\\u0441\\u0435\\u0433\\u0434\\u0430\",\"\\u043c\\u043e\\u0436\\u043d\\u043e\",\"\\u0436\\u0438\\u0437\\u043d\\u044c\",\"\\u0434\\u0440\\u0443\\u0433\",\"\\u043f\\u0435\\u0440\\u0432\\u044b\\u0439\",\"\\u0441\\u043a\\u043e\\u0440\\u043e\",\"\\u0441\\u0430\\u043c\",\"\\u043d\\u0430\\u0448\",\"\\u0433\\u0434\\u0435\",\"\\u043c\\u0430\\u043c\\u0430\",\"\\u043f\\u043e\\u0442\\u043e\\u043c\",\"\\u0448\\u043a\\u043e\\u043b\\u0430\",\"!\",\"\\u0447\\u0430\\u0441\",\"\\u0442\",\"\\u043d\\u0438\",\"\\u043f\\u043e\\u0441\\u043b\\u0435\",\"\\u0435\\u0449\",\"\\u0447\\u0442\\u043e\\u0431\\u044b\",\"\\u043e\\u043f\\u044f\\u0442\\u044c\",\"\\u043d\\u043e\\u0447\\u044c\",\"\\u0436\\u0434\\u0430\\u0442\\u044c\",\"\\u0442\\u0432\\u043e\\u0439\",\"\\u043d\\u0430\\u0441\\u0442\\u0440\\u043e\\u0435\\u043d\\u0438\\u0435\",\"\\u0441\\u0442\\u0430\\u043d\\u043e\\u0432\\u0438\\u0442\\u044c\\u0441\\u044f\",\"\\u0447\\u0435\\u043c\",\"\\u043f\\u0440\\u0438\\u0445\\u043e\\u0434\\u0438\\u0442\\u044c\",\"\\u043d\\u0430\\u043f\\u0438\\u0441\\u0430\\u0442\\u044c\",\"\\u043f\\u043e\\u043a\\u0430\",\"/\",\"\\u043d\\u0438\\u043a\\u0442\\u043e\",\"\\u0445\\u043e\\u0442\\u0435\\u0442\\u044c\\u0441\\u044f\",\"\\u043f\\u043e\\u0441\\u043b\\u0435\\u0434\\u043d\\u0438\\u0439\",\"\\u043d\\u0430\\u0447\\u0438\\u043d\\u0430\\u0442\\u044c\",\"\\u0434\\u0432\\u0430\",\"\\u043f\\u043e\\u0441\\u043c\\u043e\\u0442\\u0440\\u0435\\u0442\\u044c\",\"\\u0432\\u0438\\u0434\\u0435\\u0442\\u044c\",\"\\u0445\\u043e\\u0442\\u044c\",\"\\u0440\\u0430\\u0431\\u043e\\u0442\\u0430\",\"\\u043b\\u044e\\u0431\\u0438\\u043c\\u044b\\u0439\",\"\\u0434\\u043e\\u0431\\u0440\\u044b\\u0439\",\"\\u0431\\u043e\\u043b\\u0435\\u0442\\u044c\",\"\\u043d\\u0430\\u0445\\u043e\\u0434\\u0438\\u0442\\u044c\",\"\\u043e\\u0441\\u0442\\u0430\\u0432\\u0430\\u0442\\u044c\\u0441\\u044f\",\"\\u0437\\u0430\\u0431\\u044b\\u0432\\u0430\\u0442\\u044c\",\"\\u0430\\u0445\\u0430\\u0445\",\"\\u043a\\u0430\\u0436\\u0434\\u044b\\u0439\",\"\\u043a\\u0443\\u043f\\u0438\\u0442\\u044c\",\"\\u043c\",\"\\u0434\\u0435\\u043b\\u043e\",\"\\u0432\\u043e\",\"\\u0434\\u0440\\u0443\\u0433\\u043e\\u0439\",\"\\u0432\\u0435\\u0447\\u0435\\u0440\",\"\\u0432\\u0447\\u0435\\u0440\\u0430\",\"\\u043d\\u0435\\u0434\\u0435\\u043b\\u044f\",\"\\u043f\\u043e\\u0434\",\"\\u0447\\u0435\\u0440\\u0435\\u0437\",\"\\u043f\\u043e\\u0442\\u043e\\u043c\\u0443\",\"\\u043d\\u0443\\u0436\\u043d\\u043e\",\"\\u0434\\u043e\\u043c\\u0430\",\"\\u0441\\u043e\\u0432\\u0441\\u0435\\u043c\",\"\\u0445\\u043e\\u0442\\u044f\",\"\\u0447\\u0438\\u0442\\u0430\\u0442\\u044c\",\"\\u043d\\u0438\\u0431\\u0443\\u0434\\u044c\",\"\\u043f\\u043b\\u043e\\u0445\\u043e\",\"\\u0432\\u044b\\u0445\\u043e\\u0434\\u0438\\u0442\\u044c\",\"\\u0443\\u0440\\u043e\\u043a\",\"\\u043b\\u0438\",\"\\u0440\\u0430\\u043d\\u043e\",\"\\u0433\\u043e\\u043b\\u043e\\u0432\\u0430\",\"\\u0444\\u0438\\u043b\\u044c\\u043c\",\"\\u0441\\u043d\\u0435\\u0433\",\"\\u0435\\u0445\\u0430\\u0442\\u044c\",\"\\u043d\\u0440\\u0430\\u0432\\u0438\\u0442\\u044c\\u0441\\u044f\",\"\\u043d\\u0430\\u0434\\u0435\\u044f\\u0442\\u044c\\u0441\\u044f\",\"\\u043d\\u0438\\u043a\\u043e\\u0433\\u0434\\u0430\",\"\\u0432\\u0435\\u0434\\u044c\",\"\\u0436\\u0438\\u0442\\u044c\",\"D\",\"\\u0441\\u043a\\u0443\\u0447\\u0430\\u0442\\u044c\",\"\\u0445\\u043e\\u0434\\u0438\\u0442\\u044c\",\"\\u043a\\u043e\\u043d\\u0435\\u0447\\u043d\\u043e\",\"\\u0440\\u0430\\u0431\\u043e\\u0442\\u0430\\u0442\\u044c\",\"\\u043d\\u0443\\u0436\\u043d\\u044b\\u0439\",\"\\u0442\\u043e\\u0433\\u0434\\u0430\",\"\\u0436\\u0430\\u043b\\u044c\",\"\\u0434\\u043e\\u043c\",\"\\u0432\\u0442\\u043e\\u0440\\u043e\\u0439\",\":((\",\"\\u0436\",\"\\u0434\\u043e\\u043c\\u043e\\u0439\",\"\\u0442\\u0435\\u043b\\u0435\\u0444\\u043e\\u043d\",\"\\u043f\\u043e\\u0440\\u0430\",\"\\u043f\\u0440\\u0430\\u0432\\u0434\\u0430\",\"\\u0440\\u0430\\u0432\\u043d\\u044b\\u0439\",\"\\u043d\\u0433\\u0430\",\"\\u0440\\u0435\\u0448\\u0430\\u0442\\u044c\",\"\\u043f\\u0430\\u0440\\u0430\",\"\\u043f\\u0440\\u0438\\u0435\\u0437\\u0436\\u0430\\u0442\\u044c\",\"\\u0432\\u0440\\u043e\\u0434\\u0435\",\"\\u0431\\u043b\\u044f\",\"\\u043c\\u0430\\u043b\\u043e\",\"\\u0435\",\"\\u043e_\\u043e\",\"\\u043f\\u0430\\u0440\\u0435\\u043d\\u044c\",\"=(\",\"\\u0442\\u0430\\u043a\\u0438\",\"\\u0431\\u043e\\u043b\\u044c\\u0448\\u0435\",\"\\u0441\\u043e\\u043d\",\"\\u043b\",\"\\u043f\\u0440\\u043e\\u0445\\u043e\\u0434\\u0438\\u0442\\u044c\",\"\\u043f\\u0435\\u0441\\u043d\\u044f\",\"\\u0443\\u043b\\u0438\\u0446\\u0430\",\"\\u0440\\u0443\\u043a\\u0430\",\"=)\",\"\\u0443\\u0445\\u043e\\u0434\\u0438\\u0442\\u044c\",\"\\u0430\\u0445\\u0438\",\"\\u0441\\u043b\\u043e\\u0432\\u043e\",\"\\u0442\\u0432\\u0438\\u0442\\u0442\\u0435\\u0440\",\"\\u043d\\u043e\\u0432\\u043e\\u0433\\u043e\\u0434\\u043d\\u0438\\u0439\",\"\\u0441\\u043d\\u043e\\u0432\\u0430\",\"\\u0435\\u0433\\u043e\",\"\\u0432\\u0441\\u0442\\u0430\\u0432\\u0430\\u0442\\u044c\",\"\\u0442\\u043e\\u0447\\u043d\\u043e\",\"\\u0434\\u0430\\u0432\\u043d\\u043e\",\"\\u0443\\u0432\\u0438\\u0434\\u0435\\u0442\\u044c\",\"\\u043f\\u043e\\u043b\\u0443\\u0447\\u0430\\u0442\\u044c\\u0441\\u044f\",\"\\u0444\\u043e\\u0442\\u043a\\u0430\",\"\\u043f\\u0440\\u043e\\u0441\\u044b\\u043f\\u0430\\u0442\\u044c\\u0441\\u044f\",\"\\u0431\\u043e\\u043b\\u044c\\u0448\\u043e\\u0439\",\"\\u0443\\u0436\",\"\\u043f\\u043e\\u0447\\u0442\\u0438\",\"_\",\"\\u0437\\u0430\\u0447\\u0435\\u043c\",\"\\u043c\\u0438\\u043d\\u0443\\u0442\\u0430\",\"\\u0438\\u0433\\u0440\\u0430\\u0442\\u044c\",\"\\u0437\\u0438\\u043c\\u0430\",\"\\u043c\\u0435\\u0441\\u0442\\u043e\",\"\\u043f\\u043e\\u043c\\u043d\\u0438\\u0442\\u044c\",\"\\u0434\\u0435\\u0432\\u0443\\u0448\\u043a\\u0430\",\"\\u043a\\u0443\\u0434\\u0430\",\"\\u0441\\u0440\\u0430\\u0437\\u0443\",\"\\u043f\\u0440\\u044f\\u043c\\u043e\\u0439\",\"\\u043f\\u0440\\u0438\\u0445\\u043e\\u0434\\u0438\\u0442\\u044c\\u0441\\u044f\",\"gt\",\"\\u0441:\",\"\\u043a\\u0441\\u0442\\u0430\\u0442\\u0438\",\"((((\",\"\\u0447\\u0443\\u0442\\u044c\",\"\\u043f\\u043e\\u043b\\u0443\\u0447\\u0430\\u0442\\u044c\",\"\\u0441\\u043b\\u0443\\u0448\\u0430\\u0442\\u044c\",\"\\u043f\\u0440\\u043e\\u0449\\u0430\\u0442\\u044c\",\"\\u0441\\u0438\\u043b\\u044c\\u043d\\u043e\",\"\\u0441\\u043a\\u043e\\u043b\\u044c\\u043a\\u043e\",\"\\u043a\\u0440\\u0443\\u0442\\u043e\\u0439\",\"\\u0441\\u0442\\u043e\\u043b\\u044c\\u043a\\u043e\",\"\\u0447\",\"\\u0447\\u0443\\u0432\\u0441\\u0442\\u0432\\u043e\\u0432\\u0430\\u0442\\u044c\",\"\\u0443\\u0441\\u043f\\u0435\\u0432\\u0430\\u0442\\u044c\",\"\\u0433\\u043b\\u0430\\u0437\",\"\\u0443\\u0437\\u043d\\u0430\\u0432\\u0430\\u0442\\u044c\",\"\\u043f\\u043e\\u0434\\u0430\\u0440\\u043e\\u043a\",\"\\u043e\\u043a\\u0430\\u0437\\u044b\\u0432\\u0430\\u0442\\u044c\\u0441\\u044f\",\"\\u043f\\u043b\\u043e\\u0445\\u043e\\u0439\",\"\\u0432\\u0430\\u0448\",\"\\u0447\\u0435\",\"\\u043b\\u0435\\u043d\\u0442\\u0430\",\"\\u0431\",\"\\u0434\\u043e\\u043b\\u0436\\u043d\\u044b\\u0439\",\"\\u0431\\u044b\\u0441\\u0442\\u0440\\u043e\",\"\\u0445\",\"\\u0431\\u043e\\u044f\\u0442\\u044c\\u0441\\u044f\",\"\\u0434\\u0435\\u043d\\u044c\\u0433\\u0438\",\"\\u043d\\u0435\\u043d\\u0430\\u0432\\u0438\\u0434\\u0435\\u0442\\u044c\",\"\\u0432\\u044b\\u0445\\u043e\\u0434\\u043d\\u043e\\u0439\",\"\\u043d\\u0430\\u0432\\u0435\\u0440\\u043d\\u043e\\u0435\",\"\\u0432\\u0437\\u044f\\u0442\\u044c\",\"\\u0438\\u0431\\u043e\",\"\\u043d\\u0430\\u0447\\u0438\\u043d\\u0430\\u0442\\u044c\\u0441\\u044f\",\"\\u0441\\u043c\\u043e\\u0447\\u044c\",\"\\u0441\\u0434\\u0430\\u0432\\u0430\\u0442\\u044c\",\"\\u043f\\u0430\\u043f\\u0430\",\"\\u043a\\u043e\\u043d\\u0435\\u0446\",\"\\u043d\\u0430\\u043a\\u043e\\u043d\\u0435\\u0446\",\"\\u043b\\u0430\\u0434\\u043d\\u043e\",\"\\u043b\\u044e\\u0431\\u043e\\u0432\\u044c\",\"\\u0441\\u0445\\u043e\\u0434\\u0438\\u0442\\u044c\",\"\\u043f\\u043e\\u043c\\u043e\\u0433\\u0430\\u0442\\u044c\",\"\\u043f\\u0440\\u0438\\u0432\\u0435\\u0442\",\"\\u043a\\u043b\\u0430\\u0441\\u0441\",\"\\u043d\",\"\\u043c\\u0435\\u0441\\u044f\\u0446\",\"\\u0433\\u043e\\u0440\\u043e\\u0434\",\"\\u043f\\u0435\\u0440\\u0435\\u0434\",\"lt\",\":))\",\"\\u043c\\u043e\\u043c\\u0435\\u043d\\u0442\",\"\\u043f\\u0440\\u0438\",\"\\u0441\\u0442\\u043e\\u044f\\u0442\\u044c\",\"\\u0441\\u043e\\u0431\\u0438\\u0440\\u0430\\u0442\\u044c\\u0441\\u044f\",\"\\u043c\\u0430\\u043b\\u0435\\u043d\\u044c\\u043a\\u0438\\u0439\",\"\\u0440\\u043e\\u0436\\u0434\\u0435\\u043d\\u0438\\u0435\",\"\\u0440\\u0443\\u0441\\u0441\\u043a\\u0438\\u0439\",\"\\u0437\\u0430\\u043a\\u0430\\u043d\\u0447\\u0438\\u0432\\u0430\\u0442\\u044c\\u0441\\u044f\",\"\\u0449\\u0430\\u0441\",\"\\u0434\\u0435\\u0432\\u043e\\u0447\\u043a\\u0430\",\"\\u043c\\u0438\\u0440\",\"\\u043d\\u0435\\u043b\\u044c\\u0437\\u044f\",\"\\u0434\\u043e\\u043b\\u0433\\u043e\",\"\\u0440\\u0435\\u0431\\u0435\\u043d\\u043e\\u043a\",\"\\u0443\\u043c\\u0438\\u0440\\u0430\\u0442\\u044c\",\"\\u043a\\u0430\\u0437\\u0430\\u0442\\u044c\\u0441\\u044f\",\"\\u0442\\u0440\\u0438\",\"\\u0447\\u0443\\u0432\\u0441\\u0442\\u0432\\u043e\",\"\\u043a\\u0440\\u0430\\u0441\\u0438\\u0432\\u044b\\u0439\",\"\\u043e\\u0439\",\"\\u0432\\u043e\\u043f\\u0440\\u043e\\u0441\",\"\\u043e\\u043d\\u043e\",\"\\u0446\\u0435\\u043b\\u044b\\u0439\",\"\\u0447\\u0442\\u043e\\u0431\",\"\\u043c\\u0443\\u0437\\u044b\\u043a\\u0430\",\"\\u043d\\u043e\\u0433\\u0430\",\"\\u0434\\u0430\\u043b\\u0435\\u043a\\u043e\",\"\\u043d\\u0435\\u043c\\u043d\\u043e\\u0433\\u043e\",\"\\u043e\\u0431\",\"\\u043e\\u0442\\u043b\\u0438\\u0447\\u043d\\u044b\\u0439\",\"\\u0440\\u043e\\u0441\\u0441\\u0438\\u044f\",\"\\u0441\\u0442\\u0430\\u0440\\u044b\\u0439\",\"\\u043c\\u0438\\u043b\\u044b\\u0439\",\"\\u0442\\u0432\\u0438\\u0442\",\"\\u0441\\u0435\\u0440\\u0438\\u044f\",\"\\u0437\\u0430\\u0442\\u043e\",\"\\u044d\\u0445\",\"\\u0432\\u0441\\u043f\\u043e\\u043c\\u043d\\u0438\\u0442\\u044c\",\"\\u0440\\u0430\\u0434\",\"\\u044d\\u043a\\u0437\\u0430\\u043c\\u0435\\u043d\",\"\\u043e\\u0442\\u0432\\u0435\\u0447\\u0430\\u0442\\u044c\",\"\\u0435\\u0441\\u0442\\u044c\",\"\\u043a\\u0440\\u0443\\u0442\\u043e\",\"\\u0431\\u044b\\u0432\\u0430\\u0442\\u044c\",\"\\u0436\\u0430\\u043b\\u043a\\u043e\",\"\\u0443\\u0435\\u0437\\u0436\\u0430\\u0442\\u044c\",\"\\u0440\\u0435\\u0431\\u044f\\u0442\\u0430\",\"\\u0445)\",\"\\u0438\\u043d\\u043e\\u0433\\u0434\\u0430\",\"\\u0438\\u043d\\u0442\\u0435\\u0440\\u0435\\u0441\\u043d\\u043e\",\"\\u0438\\u0441\\u0442\\u043e\\u0440\\u0438\\u044f\",\"\\u0431\\u043b\\u044f\\u0442\\u044c\",\"\\u043f\\u043e\\u043b\",\"\\u0433\\u0443\\u043b\\u044f\\u0442\\u044c\",\"\\u043d\\u043e\\u0440\\u043c\\u0430\",\"))))\",\":(((\",\"\\u043f\\u043e\\u0441\\u0442\\u0430\\u0432\\u043b\\u044f\\u0442\\u044c\",\"\\u0440\\u0430\\u0441\\u0441\\u043a\\u0430\\u0437\\u044b\\u0432\\u0430\\u0442\\u044c\",\"\\u043f\\u0438\\u0442\\u044c\",\"\\u043f\\u043e\\u0435\\u0445\\u0430\\u0442\\u044c\",\"\\u043f\\u043b\\u0430\\u043a\\u0430\\u0442\\u044c\",\"\\u0441\\u043b\\u0438\\u0448\\u043a\\u043e\\u043c\",\"\\u043f\\u0443\\u0441\\u0442\\u044c\",\"\\u0444\\u043e\\u0442\\u043e\",\":DD\",\":|\",\"\\u0443\\u0447\\u0438\\u0442\\u044c\",\"\\u043f\\u0440\\u043e\\u0431\\u043b\\u0435\\u043c\\u0430\",\"\\u043f\\u0438\\u0437\\u0434\\u0435\\u0446\",\"\\u0441\\u0447\\u0430\\u0441\\u0442\\u0438\\u0435\",\"\\u0438\\u0433\\u0440\\u0430\",\"\\u043b\\u043e\\u0436\\u0438\\u0442\\u044c\\u0441\\u044f\",\"\\u0443\\u0441\\u0442\\u0430\\u0432\\u0430\\u0442\\u044c\",\"\\u043f\\u043e\\u0434\\u0440\\u0443\\u0433\\u0430\",\"\\u043f\\u043e\\u0437\\u0434\\u0440\\u0430\\u0432\\u043b\\u044f\\u0442\\u044c\",\"\\u0438\\u043c\\u0435\\u043d\\u043d\\u043e\",\"\\u043f\\u043e\\u043a\\u0430\\u0437\\u044b\\u0432\\u0430\\u0442\\u044c\",\"\\u0434\\u0443\\u0448\\u0430\",\"\\u0443\\u0431\\u0438\\u0432\\u0430\\u0442\\u044c\",\"\\u0433\\u043b\\u0430\\u0432\\u043d\\u043e\\u0435\",\"\\u043d\\u043e\\u0440\\u043c\\u0430\\u043b\\u044c\\u043d\\u043e\",\"\\u0437\\u043d\\u0430\\u0447\\u0438\\u0442\",\"\\u043a\\u043e\",\"\\u043f\\u0440\\u0430\\u0437\\u0434\\u043d\\u0438\\u043a\",\"\\u0438\\u043d\\u0442\\u0435\\u0440\\u0435\\u0441\\u043d\\u044b\\u0439\",\"\\u043f\\u043e\\u044d\\u0442\\u043e\\u043c\\u0443\",\"\\u043c\\u043e\\u0436\\u0435\\u0442\",\"\\u043a\\u0430\\u043d\\u0438\\u043a\\u0443\\u043b\\u044b\",\"\\u043b\\u0435\\u0442\\u043e\",\"\\u0439\",\"\\u0432\\u043a\",\"\\u0443\\u0436\\u0430\\u0441\\u043d\\u044b\\u0439\",\"\\u043c\\u0430\\u0448\\u0438\\u043d\\u0430\",\"\\u0438\\u043d\\u0442\\u0435\\u0440\\u043d\\u0435\\u0442\",\"\\u043e\\u0444\\u0438\\u0433\\u0435\\u043d\\u043d\\u044b\\u0439\",\"\\u0443\\u0447\\u0438\\u0442\\u044c\\u0441\\u044f\",\"\\u043f\\u043e\\u0433\\u043e\\u0434\\u0430\",\"\\u043f\\u043e\\u0445\\u043e\\u0434\",\"\\u0441\\u043f\\u0440\\u0430\\u0448\\u0438\\u0432\\u0430\\u0442\\u044c\",\"\\u0437\\u0430\\u0439\\u0442\\u0438\",\"\\u0443\\u043c\\u0435\\u0442\\u044c\",\"\\u043f\\u0440\\u043e\\u0432\\u043e\\u0434\\u0438\\u0442\\u044c\",\"\\u0441\\u0443\\u043a\\u0430\",\"\\u043f\\u043e\\u043d\\u0440\\u0430\\u0432\\u0438\\u0442\\u044c\\u0441\\u044f\",\"\\u043f\\u043e\\u043b\\u043d\\u044b\\u0439\",\"\\u043a\\u043b\\u0430\\u0441\\u0441\\u043d\\u044b\\u0439\",\"\\u0443\\u0436\\u0430\\u0441\\u043d\\u043e\",\"\\u043a\\u043e\\u0442\",\"\\u043d\\u043e\\u0440\\u043c\\u0430\\u043b\\u044c\\u043d\\u044b\\u0439\",\"\\u0432\\u0435\\u0440\\u0438\\u0442\\u044c\",\"\\u0440\\u043e\\u0434\\u0438\\u0442\\u0435\\u043b\\u044c\",\"\\u043f\\u044f\\u0442\\u043d\\u0438\\u0446\\u0430\",\"\\u043f\\u0440\\u0438\\u044f\\u0442\\u043d\\u043e\",\"\\u043b\\u0438\\u0448\\u044c\",\"\\u043f\\u0440\\u0435\\u043a\\u0440\\u0430\\u0441\\u043d\\u044b\\u0439\",\"\\u0433\\u0440\\u0443\\u043f\\u043f\\u0430\",\"\\u0432\\u043c\\u0435\\u0441\\u0442\\u0435\",\"\\u0441\\u0435\\u0439\",\"\\u0447\\u0430\\u0441\\u0442\\u043e\",\"\\u0441\\u043a\\u0443\\u0447\\u043d\\u043e\",\"\\u0431\\u0440\\u0430\\u0442\",\"\\u0442\\u0438\\u043f\",\"\\u043e\\u0441\\u043e\\u0431\\u0435\\u043d\\u043d\\u043e\",\"\\u0432\\u0438\\u0434\\u0435\\u043e\",\"\\u0431\\u043e\\u043b\\u044c\",\"\\u043e\\u0431\\u0438\\u0434\\u043d\\u043e\",\"\\u043d\\u0438\\u043a\\u0430\\u043a\",\"\\u043f\\u043e\\u0434\\u0443\\u043c\\u0430\\u0442\\u044c\",\"\\u043e\\u0445\",\"\\u0433\\u043e\\u043b\\u043e\\u0441\",\"\\u043c\\u0430\\u0433\\u0430\\u0437\\u0438\\u043d\",\"\\u0430\\u0445\\u0430\\u0445\\u0430\\u0445\",\"\\u043c\\u044b\\u0441\\u043b\\u044c\",\"\\u043e\\u0442\\u043a\\u0440\\u044b\\u0432\\u0430\\u0442\\u044c\",\"\\u0434\",\"\\u0445\\u0432\\u0430\\u0442\\u0430\\u0442\\u044c\",\"\\u043f\\u044b\\u0442\\u0430\\u0442\\u044c\\u0441\\u044f\",\"\\u043d\\u043e\\u0432\\u043e\\u0441\\u0442\\u044c\",\"\\u0440\",\"\\u0430\\u0433\\u0430\",\"^_^\",\"\\u043c\\u043e\\u0441\\u043a\\u0432\\u0430\",\"\\u0441\\u043b\\u0435\\u0434\\u0443\\u044e\\u0449\\u0438\\u0439\",\"\\u0431\\u043e\\u0436\\u0435\",\"\\u0436\\u0435\\u043b\\u0430\\u043d\\u0438\\u0435\",\"\\u043f\\u0440\\u0435\\u0434\\u0441\\u0442\\u0430\\u0432\\u043b\\u044f\\u0442\\u044c\",\"\\u0440\\u044f\\u0434\\u043e\\u043c\",\"\\u0432\\u0441\\u0442\\u0440\\u0435\\u0447\\u0430\\u0442\\u044c\",\"\\u043a\\u0430\\u0436\\u0435\\u0442\\u0441\\u044f\",\"\\u043f\\u043e\\u0434\\u0430\\u0440\\u0438\\u0442\\u044c\",\":)))\",\"\\u043f\\u043b\\u0430\\u043d\",\"\\u043d\\u0430\\u0437\\u044b\\u0432\\u0430\\u0442\\u044c\",\"\\u0432\\u0441\\u0435\\u0433\\u043e\",\"\\u0434\\u043e\\u0440\\u043e\\u0433\\u043e\\u0439\",\"\\u043f\\u043e\\u043d\\u0435\\u0434\\u0435\\u043b\\u044c\\u043d\\u0438\\u043a\",\"\\u043a\\u043e\\u043d\\u0446\\u0435\\u0440\\u0442\",\"\\u0442\\u0443\\u0434\\u0430\",\"\\u0437\\u0430\\u0431\\u043e\\u043b\\u0435\\u0432\\u0430\\u0442\\u044c\",\"\\u0447\\u0430\\u0439\",\"\\u043e\\u0431\\u043e\\u0436\\u0430\\u0442\\u044c\",\"\\u0431\\u0435\\u0441\\u0438\\u0442\\u044c\",\":\\u0441\",\"\\u043d\\u0430\\u0437\\u0430\\u0434\",\"\\u043a\\u043d\\u0438\\u0433\\u0430\",\"\\u0438\\u0445\",\"\\u0440\\u0435\\u0430\\u043b\\u044c\\u043d\\u043e\",\"\\u043b\\u0438\\u0446\\u043e\",\"\\u0437\\u0430\\u043c\\u0435\\u0447\\u0430\\u0442\\u044c\",\"\\u0437\\u0434\\u0435\\u0441\\u044c\",\"\\u0431\\u044b\\u0442\\u044c)\",\"\\u043f\\u0440\\u043e\\u0447\\u0438\\u0442\\u044b\\u0432\\u0430\\u0442\\u044c\",\"\\u0442\\u0435\\u043c\\u0430\",\"\\u0441\\u0435\\u0437\\u043e\\u043d\",\"\\u043f\\u0440\\u0438\\u044f\\u0442\\u043d\\u044b\\u0439\",\"\\u0437\\u0430\\u043d\\u0438\\u043c\\u0430\\u0442\\u044c\\u0441\\u044f\",\"\\u043e\\u043a\\u043d\\u043e\",\"\\u0441\\u0435\\u0440\\u0438\\u0430\\u043b\",\"\\u0431\\u0443\\u0434\\u0442\\u043e\",\"\\u043b\\u044e\\u0431\\u043e\\u0439\",\"\\u043f\\u043e\\u043f\\u0430\\u0434\\u0430\\u0442\\u044c\",\"\\u043d\\u0438\\u043a\\u0430\\u043a\\u043e\\u0439\",\"amp\",\"\\u0432\\u0440\\u043e\\u043c\\u0430\\u0439\\u0434\\u0430\\u043d\",\"\\u043a\\u0430\\u043f\\u0435\\u0446\",\"\\u0438\\u0441\\u043a\\u0430\\u0442\\u044c\",\"\\u043b\\u0435\\u0436\\u0430\\u0442\\u044c\",\"\\u0441\\u0443\\u0431\\u0431\\u043e\\u0442\\u0430\",\"\\u0432\\u0438\\u0434\\u0438\\u043c\\u043e\"],\"x1\":{\"__ndarray__\":\"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\",\"dtype\":\"float32\",\"order\":\"little\",\"shape\":[500]},\"x2\":{\"__ndarray__\":\"lPyewUvNlEEwC6fAiNlBwYWcgMGbHBvBvA6Twbt/scAA50LBSkeAvuS9p8G/ykG+Uy0swCQ37kAiUKPAFBwEvwHyJcFgyhHA/ryOwUGAD8EalAPBly7Uv5S6fECVmp7B8RjewJ7pfkGx9ojB5K4vwcD0gsGEXjVByJzjwOcWdEFUd32/r070wP5boEADb3PBCOiEQNFa+MAAcXXAuCaHQc/qwMDQy07BGvuTPyAzV0HQ8JjBzy/4v6/fhsCCwYtBV+XVQHGmlUCB7XnBn+QPQIZ61EBqkErBvfBBwaU/CkEnCa7Am/ZNwUh9UMGS5o5BDifpvvicK8CZSMK/bbW1QDHWfsGeBkLBPhFTwcQOW8BRffxAG78qQcUzqUBUAm1B1roNwSSgRMDjnXpAhQENQbqIR8ERT/fA0BMpwWjF7kAkKVtAs3KawUfZ6z8JEN6/ZEATwdnvK8Fv2lTBgCz6QHLw4cAiNFBAOMyYQZ6SwcAPWwDBiEH0wL6ms8CKVGjAZLv3wNFKMkFR36ZBmlR4QD8YI8FJqTTArfCIQZJRGMGEpPnAla5lQVyiEEHrYIDBmuZkQT37KcE1Q2nACVsFwQvPI8F9OFTBPe7RvdiC5kD6Q59A6AKUQH0NKEFHOipAiswLwKCcXsHtM0rBvNqLwaEZIb/vu1pBiRr8wBSHnEHOgVE9LW1lwQZYdME47JU/WGGbwNW5NEEvG5FBCzorQc1sgcGhXXNBSFIFQJJ6QkAeDw3BT5AcwSV0XcDsfy3BuZf0wF8LdEGpoR9B7yAoQbzpGEHxEYzAr6OywB9GBT+Pwh9BrnKKQHKZukB85QPBFiL7wIOJ6kBMmwDBuozEwH0ON0EfXRbBDROkv4KvHkEW7XbBVJZowVkfhEE5dk5BwOSUQVCbIMEF3gBBaF0EwQ9V+kANsbZAq5k9wTk0lL6AJSbB8SXwQIVypD+J1jFBdEeCQfHYEsGSmVJBUGjdwD1qu0A3eGBBnUZdQWz2bMDek18/d93bwCXk4b/bPRtBYD2RweMgh0AdRlxBO380wAy7JsG7FxLBUHDywKScgMDTSM1AqK0nQUdb28Bva/DASKs7QbTYKT9czx1B+PkdwPhlRkEn7IlAYkfRQPPaJkGx5UVBSNttvOHn0MDNf0pAQrCTwaXTDcHOBJ1AIdIewbyOSUGJo/DAcLiVQXBRrUFNPy9BHlm5QCKta0Fwjc7AOvQnwdXgOEFwELTAPkJHQKBhs7/Iyk5BGAA2QcidccEdo59BNdhHwD3Bx8AD0rLAL11Mv5Z+gkC0yJ5BKurcP4KXecC7EetAO+yNwf/BI8GRp5lBOY4JwHwOXEGjFu1AMie9wDzLo0AeLkrBnb0dwMlTV8DxLuBAOjKjwZz2hME75SbAjX3dwG5WuL7MPybBa8AtwPF3AcHk5R7BxaWlwFi0FUC769/AH+8/v1imW8DQBYRBfd9CPxfm4sBgd2VAtG2zwGJMUEC9d17BDH4twfPJL0Csg7m/BeSbwIknIUDjxA/ASclcwNoSMkC91QXAC+lvQbhBAsAEGA7BWF6TwBWDMkGio4ZBTgGCQVi+N0BjQAZBjUNCQVTZssADQpdAVhxUQe9418Bc5oPBlRNCQetJhr8GnpVB9+7tQC8CdsGUZJ/BgdoOwUXJh0Fu9EfBslwSwftMS0GY4s8/+Pj/QP1OckEqvTBBAaH7vz0uVEDVVpxApdnAv63kC0DBPk1AkhFRv3m0sMD1zBxB/9yHQYhrEUB7g8/AKqcxwRFhcr9fyyxBqn+awALm4EAw5tLAysgeQKkYh78blm7Aa4afQCUu3UAv5RtA0EhXQFCBS0DZXeVApekawPxvVsAzs+nAZfZTQKXgf0H5gAXB8FUGQTifPz8wH92/mapswIWeP0GnZpBAiBjKwEnkDD5m581ArRxvQSzm08DB5CJBKkc8QRwvhr9yPgXB4gvmwAxTBcHJSfnAhs8JQTGNTUGQPI+/iTUaQJp3Sj/ghopATOLdwOiD6MAmcIJBlkNBP39fosBfA6tAY3fTQHh2n0FVUnPAQSFyQKW2/kC7pZK/48PPwNsEVz84acPAlNf5voY1lb/K02bAcOB3wSl/XEFYGak/LjWEwF4NkMAjLmhBv6VQQcijqkHw+LK/f8p6QDJW6ECTDiTBwHV4QFdUKkGS12lBm3YVwHYpC8E7BEnBw08hwL4uyEBykcnAiQuEwD4r/cCiTzNAdB+IwJzItT86QN/Ac7TOwEWzSkBuFWtBOg8EQGXi2EBDPYtAWiimQAT4oj/kHR1BOn2pPaIBLz8/UhpAkxQRwRfRKL8xiZhACA9Lv1HmzT+t4eO/5xDtwJtanMDo5Ok+ebLxQMiDx8BAdR1Ai9ULwd+SpEEzF47Ag+MHwIJIpEB4a6VBd8yAwL5YB8HDEulAVgkSQfpFyMAe5iVB/a+fwJH5xD/HMwc+F+YFwBYb2cCf3QvB8kgfQRZ5qMCjJOVAYoZ2QMxfcEEQ1AZBdq1lQGZUd8C5yA1BfwWrv3kEGMDweqrAG3MKQaH/u0Cg62PBLWpEwDQYIj9l5dDAVp/Uv3EsbMCK5BnBgHu0QGdT50Cxm5lASIFJwaRr4kA3n7lAyfJXwApBWsGSkB9BA4MEwXGkpsHi+KZBoGqYwJv+A8GEew1Ba3hsQWS0E8A=\",\"dtype\":\"float32\",\"order\":\"little\",\"shape\":[500]}},\"selected\":{\"id\":\"1046\"},\"selection_policy\":{\"id\":\"1045\"}},\"id\":\"1030\",\"type\":\"ColumnDataSource\"},{\"attributes\":{},\"id\":\"1024\",\"type\":\"SaveTool\"},{\"attributes\":{\"data_source\":{\"id\":\"1030\"},\"glyph\":{\"id\":\"1032\"},\"hover_glyph\":null,\"muted_glyph\":null,\"nonselection_glyph\":{\"id\":\"1033\"},\"view\":{\"id\":\"1035\"}},\"id\":\"1034\",\"type\":\"GlyphRenderer\"},{\"attributes\":{},\"id\":\"1023\",\"type\":\"ResetTool\"},{\"attributes\":{\"fill_color\":{\"value\":\"#1f77b4\"},\"line_color\":{\"value\":\"#1f77b4\"},\"size\":{\"value\":8},\"x\":{\"field\":\"x1\"},\"y\":{\"field\":\"x2\"}},\"id\":\"1032\",\"type\":\"Scatter\"}],\"root_ids\":[\"1002\"]},\"title\":\"Bokeh Application\",\"version\":\"2.3.3\"}};\n",
       "  var render_items = [{\"docid\":\"84026d49-0457-4085-ab7a-cfefe3db61c9\",\"root_ids\":[\"1002\"],\"roots\":{\"1002\":\"c642f19c-fa90-4bde-bd54-cba538979e21\"}}];\n",
       "  root.Bokeh.embed.embed_items_notebook(docs_json, render_items);\n",
       "\n",
       "  }\n",
       "  if (root.Bokeh !== undefined) {\n",
       "    embed_document(root);\n",
       "  } else {\n",
       "    var attempts = 0;\n",
       "    var timer = setInterval(function(root) {\n",
       "      if (root.Bokeh !== undefined) {\n",
       "        clearInterval(timer);\n",
       "        embed_document(root);\n",
       "      } else {\n",
       "        attempts++;\n",
       "        if (attempts > 100) {\n",
       "          clearInterval(timer);\n",
       "          console.log(\"Bokeh: ERROR: Unable to run BokehJS code because BokehJS library is missing\");\n",
       "        }\n",
       "      }\n",
       "    }, 10, root)\n",
       "  }\n",
       "})(window);"
      ],
      "application/vnd.bokehjs_exec.v0+json": ""
     },
     "metadata": {
      "application/vnd.bokehjs_exec.v0+json": {
       "id": "1002"
      },
      "tags": []
     },
     "output_type": "display_data"
    }
   ],
   "source": [
    "from bokeh.models import ColumnDataSource, LabelSet\n",
    "from bokeh.plotting import figure, show, output_file\n",
    "from bokeh.io import output_notebook\n",
    "output_notebook()\n",
    "\n",
    "p = figure(tools=\"pan,wheel_zoom,reset,save\",\n",
    "           toolbar_location=\"above\",\n",
    "           title=\"word2vec T-SNE for most common words\")\n",
    "\n",
    "source = ColumnDataSource(data=dict(x1=top_words_tsne[:,0],\n",
    "                                    x2=top_words_tsne[:,1],\n",
    "                                    names=top_words))\n",
    "\n",
    "p.scatter(x=\"x1\", y=\"x2\", size=8, source=source)\n",
    "\n",
    "labels = LabelSet(x=\"x1\", y=\"x2\", text=\"names\", y_offset=6,\n",
    "                  text_font_size=\"8pt\", text_color=\"#555555\",\n",
    "                  source=source, text_align='center')\n",
    "p.add_layout(labels)\n",
    "\n",
    "show(p)"
   ]
  },
  {
   "cell_type": "markdown",
   "metadata": {
    "id": "P8TkrW0hYl8e"
   },
   "source": [
    "### Word clustering"
   ]
  },
  {
   "cell_type": "code",
   "execution_count": 19,
   "metadata": {
    "id": "XWpOfV0HYl8e"
   },
   "outputs": [],
   "source": [
    "from sklearn.metrics.pairwise import cosine_similarity\n",
    "dist = 1 - cosine_similarity(top_words_vec)"
   ]
  },
  {
   "cell_type": "code",
   "execution_count": 20,
   "metadata": {
    "colab": {
     "base_uri": "https://localhost:8080/",
     "height": 1000
    },
    "id": "mmJPJiYIYl8e",
    "outputId": "099f265a-4d8f-4468-a6c3-63ddfbda7d46"
   },
   "outputs": [
    {
     "data": {
      "image/png": "[encoded data removed]",
      "text/plain": [
       "<Figure size 720x7200 with 1 Axes>"
      ]
     },
     "metadata": {
      "needs_background": "light",
      "tags": []
     },
     "output_type": "display_data"
    }
   ],
   "source": [
    "from scipy.cluster.hierarchy import  ward, dendrogram\n",
    "\n",
    "linkage_matrix = ward(dist) \n",
    "\n",
    "fig, ax = plt.subplots(figsize=(10, 100)) \n",
    "ax = dendrogram(linkage_matrix, orientation=\"right\", labels=top_words);\n",
    "\n",
    "plt.tick_params(\\\n",
    "    axis= 'x',          # changes apply to the x-axis\n",
    "    which='both',      # both major and minor ticks are affected\n",
    "    bottom='off',      # ticks along the bottom edge are off\n",
    "    top='off',         # ticks along the top edge are off\n",
    "    labelbottom='off')\n",
    "\n",
    "plt.tight_layout() \n",
    "\n",
    "plt.savefig('w2v_cluster.png', dpi=200) #save figure as ward_clusters"
   ]
  },
  {
   "cell_type": "markdown",
   "metadata": {
    "id": "CsV2yV5DYl8g"
   },
   "source": [
    "## Text classification\n",
    "\n",
    "\n"
   ]
  },
  {
   "cell_type": "code",
   "execution_count": 21,
   "metadata": {
    "colab": {
     "base_uri": "https://localhost:8080/"
    },
    "id": "qv_tlgxgYl8g",
    "outputId": "f1e7e71e-a33e-4db4-9b36-697f7573d175"
   },
   "outputs": [
    {
     "name": "stdout",
     "output_type": "stream",
     "text": [
      "total train examples 151978\n",
      "total test examples 74856\n"
     ]
    }
   ],
   "source": [
    "X = df.text.tolist()\n",
    "y = df.sent.tolist()\n",
    "\n",
    "X, y = np.array(X), np.array(y)\n",
    "\n",
    "X_train, X_test, y_train, y_test = train_test_split(X,y, test_size=0.33)\n",
    "print (\"total train examples %s\" % len(y_train))\n",
    "print (\"total test examples %s\" % len(y_test))"
   ]
  },
  {
   "cell_type": "code",
   "execution_count": 22,
   "metadata": {
    "id": "ip0pEAkmYl8g"
   },
   "outputs": [],
   "source": [
    "w2v = dict(zip(model.wv.index2word, model.wv.syn0))"
   ]
  },
  {
   "cell_type": "code",
   "execution_count": 23,
   "metadata": {
    "id": "ORwGODVEYl8g"
   },
   "outputs": [],
   "source": [
    "from sklearn.pipeline import Pipeline\n",
    "from sklearn.ensemble import RandomForestClassifier\n"
   ]
  },
  {
   "cell_type": "markdown",
   "metadata": {
    "id": "83hJqgICYl8j"
   },
   "source": [
    "# Tf-Idf weights\n"
   ]
  },
  {
   "cell_type": "code",
   "execution_count": 24,
   "metadata": {
    "id": "IcQ6cMTvYl8j"
   },
   "outputs": [],
   "source": [
    "class TfidfEmbeddingVectorizer(object):\n",
    "    def __init__(self, word2vec):\n",
    "        self.word2vec = word2vec\n",
    "        self.word2weight = None\n",
    "        self.dim = len(w2v.popitem()[1])\n",
    "\n",
    "    def fit(self, X, y):\n",
    "        tfidf = TfidfVectorizer(analyzer=lambda x: x)\n",
    "        tfidf.fit(X)\n",
    "        max_idf = max(tfidf.idf_)\n",
    "        self.word2weight = defaultdict(\n",
    "            lambda: max_idf,\n",
    "            [(w, tfidf.idf_[i]) for w, i in tfidf.vocabulary_.items()])\n",
    "\n",
    "        return self\n",
    "\n",
    "\n",
    "\n",
    "    def transform(self, X):\n",
    "        return np.array([\n",
    "                np.mean([self.word2vec[w] * self.word2weight[w]\n",
    "                         for w in words if w in self.word2vec] or\n",
    "                        [np.zeros(self.dim)], axis=0)\n",
    "                for words in X\n",
    "            ])"
   ]
  },
  {
   "cell_type": "code",
   "execution_count": 25,
   "metadata": {
    "id": "MuU_qnayYl8j"
   },
   "outputs": [],
   "source": [
    "from sklearn.pipeline import Pipeline\n",
    "from sklearn.ensemble import RandomForestClassifier\n",
    "\n",
    "rfc_w2v = Pipeline([\n",
    "    (\"word2vec vectorizer\", TfidfEmbeddingVectorizer(w2v)),\n",
    "    (\"extra trees\", RandomForestClassifier(n_estimators=20))])\n"
   ]
  },
  {
   "cell_type": "code",
   "execution_count": 26,
   "metadata": {
    "id": "4M7WCVUaYl8j"
   },
   "outputs": [],
   "source": [
    "rfc_w2v.fit(X_train,y_train)\n",
    "pred = rfc_w2v.predict(X_test)"
   ]
  },
  {
   "cell_type": "code",
   "execution_count": 27,
   "metadata": {
    "colab": {
     "base_uri": "https://localhost:8080/"
    },
    "id": "knvqrMXhYl8j",
    "outputId": "417e581d-f11c-4c6e-8c7c-2a7c4f91d84f"
   },
   "outputs": [
    {
     "name": "stdout",
     "output_type": "stream",
     "text": [
      "Precision:   0.86\n",
      "Recall:   0.86\n",
      "F1-measure:   0.86\n",
      "Accuracy:   0.86\n",
      "              precision    recall  f1-score   support\n",
      "\n",
      "         neg       0.84      0.87      0.86     36978\n",
      "         pos       0.87      0.84      0.86     37878\n",
      "\n",
      "    accuracy                           0.86     74856\n",
      "   macro avg       0.86      0.86      0.86     74856\n",
      "weighted avg       0.86      0.86      0.86     74856\n",
      "\n"
     ]
    },
    {
     "data": {
      "text/plain": [
       "<function sklearn.metrics._classification.classification_report>"
      ]
     },
     "execution_count": 27,
     "metadata": {
      "tags": []
     },
     "output_type": "execute_result"
    }
   ],
   "source": [
    "print(\"Precision: {0:6.2f}\".format(precision_score(y_test, pred, average='macro')))\n",
    "print(\"Recall: {0:6.2f}\".format(recall_score(y_test, pred, average='macro')))\n",
    "print(\"F1-measure: {0:6.2f}\".format(f1_score(y_test, pred, average='macro')))\n",
    "print(\"Accuracy: {0:6.2f}\".format(accuracy_score(y_test, pred)))\n",
    "print(classification_report(y_test, pred))\n",
    "labels = rfc_w2v.classes_\n",
    "\n",
    "classification_report\n",
    "#sns.heatmap(data=confusion_matrix(y_test, pred), annot=True, fmt=\"d\", cbar=False, xticklabels=labels, yticklabels=labels)\n",
    "#plt.title(\"Confusion matrix\")\n",
    "#plt.show()"
   ]
  },
  {
   "cell_type": "markdown",
   "metadata": {
    "id": "8sZy8968Yl8j"
   },
   "source": [
    "# Pretrained models\n",
    "\n",
    " https://rusvectores.org/ru/models/ \n",
    " \n"
   ]
  },
  {
   "cell_type": "code",
   "execution_count": null,
   "metadata": {
    "id": "NkGUNvzdYl8k"
   },
   "outputs": [],
   "source": []
  }
 ],
 "metadata": {
  "colab": {
   "name": "word2vec_22_07.ipynb",
   "provenance": []
  },
  "kernelspec": {
   "display_name": "Python 3 (ipykernel)",
   "language": "python",
   "name": "python3"
  },
  "language_info": {
   "codemirror_mode": {
    "name": "ipython",
    "version": 3
   },
   "file_extension": ".py",
   "mimetype": "text/x-python",
   "name": "python",
   "nbconvert_exporter": "python",
   "pygments_lexer": "ipython3",
   "version": "3.8.8"
  }
 },
 "nbformat": 4,
 "nbformat_minor": 1
}
